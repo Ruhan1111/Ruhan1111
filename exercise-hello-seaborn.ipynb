{
 "cells": [
  {
   "cell_type": "markdown",
   "id": "ab54efe1",
   "metadata": {
    "papermill": {
     "duration": 0.005067,
     "end_time": "2024-06-27T01:23:35.015133",
     "exception": false,
     "start_time": "2024-06-27T01:23:35.010066",
     "status": "completed"
    },
    "tags": []
   },
   "source": [
    "**This notebook is an exercise in the [Data Visualization](https://www.kaggle.com/learn/data-visualization) course.  You can reference the tutorial at [this link](https://www.kaggle.com/alexisbcook/hello-seaborn).**\n",
    "\n",
    "---\n"
   ]
  },
  {
   "cell_type": "markdown",
   "id": "55d75631",
   "metadata": {
    "papermill": {
     "duration": 0.004796,
     "end_time": "2024-06-27T01:23:35.025728",
     "exception": false,
     "start_time": "2024-06-27T01:23:35.020932",
     "status": "completed"
    },
    "tags": []
   },
   "source": [
    "In this exercise, you will write your first lines of code and learn how to use the coding environment for the course!\n",
    "\n",
    "## Setup\n",
    "\n",
    "First, you'll learn how to run code, and we'll start with the code cell below.  (Remember that a **code cell** in a notebook is just a gray box containing code that we'd like to run.)\n",
    "- Begin by clicking inside the code cell.  \n",
    "- Click on the blue triangle (in the shape of a \"Play button\") that appears to the left of the code cell.\n",
    "- If your code was run sucessfully, you will see `Setup Complete` as output below the cell.\n",
    "\n",
    "![ex0_run_code](https://storage.googleapis.com/kaggle-media/learn/images/4NzqJ7G.png)"
   ]
  },
  {
   "cell_type": "markdown",
   "id": "0e544f74",
   "metadata": {
    "papermill": {
     "duration": 0.004734,
     "end_time": "2024-06-27T01:23:35.035242",
     "exception": false,
     "start_time": "2024-06-27T01:23:35.030508",
     "status": "completed"
    },
    "tags": []
   },
   "source": [
    "The code cell below imports and configures the Python libraries that you need to complete the exercise.\n",
    "\n",
    "Click on the cell and run it."
   ]
  },
  {
   "cell_type": "code",
   "execution_count": 1,
   "id": "1e8e6a97",
   "metadata": {
    "execution": {
     "iopub.execute_input": "2024-06-27T01:23:35.049227Z",
     "iopub.status.busy": "2024-06-27T01:23:35.048065Z",
     "iopub.status.idle": "2024-06-27T01:23:37.439670Z",
     "shell.execute_reply": "2024-06-27T01:23:37.438185Z"
    },
    "papermill": {
     "duration": 2.401533,
     "end_time": "2024-06-27T01:23:37.442195",
     "exception": false,
     "start_time": "2024-06-27T01:23:35.040662",
     "status": "completed"
    },
    "tags": []
   },
   "outputs": [
    {
     "name": "stdout",
     "output_type": "stream",
     "text": [
      "Setup Complete\n"
     ]
    }
   ],
   "source": [
    "import pandas as pd\n",
    "pd.plotting.register_matplotlib_converters()\n",
    "import matplotlib.pyplot as plt\n",
    "%matplotlib inline\n",
    "import seaborn as sns\n",
    "\n",
    "# Set up code checking\n",
    "import os\n",
    "if not os.path.exists(\"../input/fifa.csv\"):\n",
    "    os.symlink(\"../input/data-for-datavis/fifa.csv\", \"../input/fifa.csv\")  \n",
    "from learntools.core import binder\n",
    "binder.bind(globals())\n",
    "from learntools.data_viz_to_coder.ex1 import *\n",
    "print(\"Setup Complete\")"
   ]
  },
  {
   "cell_type": "markdown",
   "id": "38690912",
   "metadata": {
    "papermill": {
     "duration": 0.004601,
     "end_time": "2024-06-27T01:23:37.451950",
     "exception": false,
     "start_time": "2024-06-27T01:23:37.447349",
     "status": "completed"
    },
    "tags": []
   },
   "source": [
    "The code you just ran sets up the system to give you feedback on your work.  You'll learn more about the feedback system in the next step.\n",
    "\n",
    "## Step 1: Explore the feedback system\n",
    "\n",
    "Each  exercise lets you test your new skills with a real-world dataset.  Along the way, you'll receive feedback on your work.  You'll see if your answer is right, get customized hints, and see the official solution (_if you'd like to take a look!_).\n",
    "\n",
    "To explore the feedback system, we'll start with a simple example of a coding problem.  Follow the following steps in order:\n",
    "1. Run the code cell below without making any edits.  It will show the following output: \n",
    "> <font color='#ccaa33'>Check:</font> When you've updated the starter code, `check()` will tell you whether your code is correct. You need to update the code that creates variable `one`\n",
    "\n",
    "    This means you need to change the code to set the variable `one` to something other than the blank provided below (`____`).\n",
    "\n",
    "\n",
    "2. Replace the underline with a `2`, so that the line of code appears as `one = 2`.  Then, run the code cell.  This should return the following output:\n",
    "> <font color='#cc3333'>Incorrect:</font> Incorrect value for `one`: `2`\n",
    "\n",
    "    This means we still have the wrong answer to the question.\n",
    "\n",
    "\n",
    "3. Now, change the `2` to `1`, so that the line of code appears as `one = 1`. Then, run the code cell. The answer should be marked as <font color='#33cc33'>Correct</font>. You have now completed this problem!"
   ]
  },
  {
   "cell_type": "code",
   "execution_count": 2,
   "id": "515b8ca9",
   "metadata": {
    "execution": {
     "iopub.execute_input": "2024-06-27T01:23:37.463345Z",
     "iopub.status.busy": "2024-06-27T01:23:37.462945Z",
     "iopub.status.idle": "2024-06-27T01:23:37.475730Z",
     "shell.execute_reply": "2024-06-27T01:23:37.474536Z"
    },
    "papermill": {
     "duration": 0.021349,
     "end_time": "2024-06-27T01:23:37.478189",
     "exception": false,
     "start_time": "2024-06-27T01:23:37.456840",
     "status": "completed"
    },
    "tags": []
   },
   "outputs": [
    {
     "data": {
      "application/javascript": [
       "parent.postMessage({\"jupyterEvent\": \"custom.exercise_interaction\", \"data\": {\"outcomeType\": 1, \"valueTowardsCompletion\": 0.5, \"interactionType\": 1, \"questionType\": 1, \"questionId\": \"1_FeedbackSys\", \"learnToolsVersion\": \"0.3.4\", \"failureMessage\": \"\", \"exceptionClass\": \"\", \"trace\": \"\"}}, \"*\")"
      ],
      "text/plain": [
       "<IPython.core.display.Javascript object>"
      ]
     },
     "metadata": {},
     "output_type": "display_data"
    },
    {
     "data": {
      "text/markdown": [
       "<span style=\"color:#33cc33\">Correct</span>"
      ],
      "text/plain": [
       "Correct"
      ]
     },
     "metadata": {},
     "output_type": "display_data"
    }
   ],
   "source": [
    "## Fill in the line below\n",
    "one = 1\n",
    "\n",
    "# Check your answer\n",
    "step_1.check()"
   ]
  },
  {
   "cell_type": "code",
   "execution_count": null,
   "id": "59c93b06",
   "metadata": {
    "papermill": {
     "duration": 0.00493,
     "end_time": "2024-06-27T01:23:37.488994",
     "exception": false,
     "start_time": "2024-06-27T01:23:37.484064",
     "status": "completed"
    },
    "tags": []
   },
   "outputs": [],
   "source": []
  },
  {
   "cell_type": "markdown",
   "id": "a497c4f1",
   "metadata": {
    "papermill": {
     "duration": 0.004684,
     "end_time": "2024-06-27T01:23:37.498746",
     "exception": false,
     "start_time": "2024-06-27T01:23:37.494062",
     "status": "completed"
    },
    "tags": []
   },
   "source": [
    "In this exercise, you were responsible for filling in the line of code that sets the value of variable `one`.  **Don't edit the code that checks your answer.**  You'll need to run the lines of code like `step_1.check()` and `step_2.check()` just as they are provided.\n",
    "\n",
    "This problem was relatively straightforward, but for more difficult problems, you may like to receive a hint or view the official solution.  Run the code cell below now to receive both for this problem."
   ]
  },
  {
   "cell_type": "code",
   "execution_count": 3,
   "id": "18a40dab",
   "metadata": {
    "execution": {
     "iopub.execute_input": "2024-06-27T01:23:37.511129Z",
     "iopub.status.busy": "2024-06-27T01:23:37.510765Z",
     "iopub.status.idle": "2024-06-27T01:23:37.523445Z",
     "shell.execute_reply": "2024-06-27T01:23:37.522251Z"
    },
    "papermill": {
     "duration": 0.021635,
     "end_time": "2024-06-27T01:23:37.526036",
     "exception": false,
     "start_time": "2024-06-27T01:23:37.504401",
     "status": "completed"
    },
    "tags": []
   },
   "outputs": [
    {
     "data": {
      "application/javascript": [
       "parent.postMessage({\"jupyterEvent\": \"custom.exercise_interaction\", \"data\": {\"interactionType\": 2, \"questionType\": 1, \"questionId\": \"1_FeedbackSys\", \"learnToolsVersion\": \"0.3.4\", \"valueTowardsCompletion\": 0.0, \"failureMessage\": \"\", \"exceptionClass\": \"\", \"trace\": \"\", \"outcomeType\": 4}}, \"*\")"
      ],
      "text/plain": [
       "<IPython.core.display.Javascript object>"
      ]
     },
     "metadata": {},
     "output_type": "display_data"
    },
    {
     "data": {
      "text/markdown": [
       "<span style=\"color:#3366cc\">Hint:</span> How many moons does Earth have?"
      ],
      "text/plain": [
       "Hint: How many moons does Earth have?"
      ]
     },
     "metadata": {},
     "output_type": "display_data"
    },
    {
     "data": {
      "application/javascript": [
       "parent.postMessage({\"jupyterEvent\": \"custom.exercise_interaction\", \"data\": {\"interactionType\": 3, \"questionType\": 1, \"questionId\": \"1_FeedbackSys\", \"learnToolsVersion\": \"0.3.4\", \"valueTowardsCompletion\": 0.0, \"failureMessage\": \"\", \"exceptionClass\": \"\", \"trace\": \"\", \"outcomeType\": 4}}, \"*\")"
      ],
      "text/plain": [
       "<IPython.core.display.Javascript object>"
      ]
     },
     "metadata": {},
     "output_type": "display_data"
    },
    {
     "data": {
      "text/markdown": [
       "<span style=\"color:#33cc99\">Solution:</span> \n",
       "```python\n",
       "one = 1\n",
       "```"
      ],
      "text/plain": [
       "Solution: \n",
       "```python\n",
       "one = 1\n",
       "```"
      ]
     },
     "metadata": {},
     "output_type": "display_data"
    }
   ],
   "source": [
    "step_1.hint()\n",
    "step_1.solution()"
   ]
  },
  {
   "cell_type": "markdown",
   "id": "a087d5ca",
   "metadata": {
    "papermill": {
     "duration": 0.006328,
     "end_time": "2024-06-27T01:23:37.537916",
     "exception": false,
     "start_time": "2024-06-27T01:23:37.531588",
     "status": "completed"
    },
    "tags": []
   },
   "source": [
    "## Step 2: Load the data\n",
    "\n",
    "You are ready to get started with some data visualization!  You'll begin by loading the dataset from the previous tutorial.  \n",
    "\n",
    "The code you need is already provided in the cell below. Just run that cell. If it shows <font color='#33cc33'>Correct</font> result, you're ready to move on!"
   ]
  },
  {
   "cell_type": "code",
   "execution_count": 4,
   "id": "0c1d5ebd",
   "metadata": {
    "execution": {
     "iopub.execute_input": "2024-06-27T01:23:37.551540Z",
     "iopub.status.busy": "2024-06-27T01:23:37.551132Z",
     "iopub.status.idle": "2024-06-27T01:23:37.564483Z",
     "shell.execute_reply": "2024-06-27T01:23:37.563456Z"
    },
    "papermill": {
     "duration": 0.022704,
     "end_time": "2024-06-27T01:23:37.566826",
     "exception": false,
     "start_time": "2024-06-27T01:23:37.544122",
     "status": "completed"
    },
    "tags": []
   },
   "outputs": [
    {
     "data": {
      "application/javascript": [
       "parent.postMessage({\"jupyterEvent\": \"custom.exercise_interaction\", \"data\": {\"outcomeType\": 1, \"valueTowardsCompletion\": 0.5, \"interactionType\": 1, \"questionType\": 1, \"questionId\": \"2_LoadFIFAData\", \"learnToolsVersion\": \"0.3.4\", \"failureMessage\": \"\", \"exceptionClass\": \"\", \"trace\": \"\"}}, \"*\")"
      ],
      "text/plain": [
       "<IPython.core.display.Javascript object>"
      ]
     },
     "metadata": {},
     "output_type": "display_data"
    },
    {
     "data": {
      "text/markdown": [
       "<span style=\"color:#33cc33\">Correct</span>"
      ],
      "text/plain": [
       "Correct"
      ]
     },
     "metadata": {},
     "output_type": "display_data"
    }
   ],
   "source": [
    "# Path of the file to read\n",
    "fifa_filepath = \"../input/fifa.csv\"\n",
    "\n",
    "# Read the file into a variable fifa_data\n",
    "fifa_data = pd.read_csv(fifa_filepath, index_col=\"Date\", parse_dates=True)\n",
    "\n",
    "# Check your answer\n",
    "step_2.check()"
   ]
  },
  {
   "cell_type": "markdown",
   "id": "f9cf396e",
   "metadata": {
    "papermill": {
     "duration": 0.005472,
     "end_time": "2024-06-27T01:23:37.578175",
     "exception": false,
     "start_time": "2024-06-27T01:23:37.572703",
     "status": "completed"
    },
    "tags": []
   },
   "source": [
    "Next, recall the difference between comments and executable code:\n",
    "- **Comments** are preceded by a pound sign (`#`) and contain text that appear faded and italicized.  They are completely ignored by the computer when the code is run.\n",
    "- **Executable code** is code that is run by the computer.\n",
    "\n",
    "In the code cell below, every line is a comment:\n",
    "```python\n",
    "# Uncomment the line below to receive a hint\n",
    "#step_2.hint()\n",
    "#step_2.solution()\n",
    "```\n",
    "\n",
    "If you run the code cell below without making any changes, it won't return any output.  Try this now!"
   ]
  },
  {
   "cell_type": "code",
   "execution_count": 5,
   "id": "512a2a14",
   "metadata": {
    "execution": {
     "iopub.execute_input": "2024-06-27T01:23:37.593865Z",
     "iopub.status.busy": "2024-06-27T01:23:37.592358Z",
     "iopub.status.idle": "2024-06-27T01:23:37.605409Z",
     "shell.execute_reply": "2024-06-27T01:23:37.604379Z"
    },
    "papermill": {
     "duration": 0.022714,
     "end_time": "2024-06-27T01:23:37.607566",
     "exception": false,
     "start_time": "2024-06-27T01:23:37.584852",
     "status": "completed"
    },
    "tags": []
   },
   "outputs": [
    {
     "data": {
      "application/javascript": [
       "parent.postMessage({\"jupyterEvent\": \"custom.exercise_interaction\", \"data\": {\"interactionType\": 2, \"questionType\": 1, \"questionId\": \"2_LoadFIFAData\", \"learnToolsVersion\": \"0.3.4\", \"valueTowardsCompletion\": 0.0, \"failureMessage\": \"\", \"exceptionClass\": \"\", \"trace\": \"\", \"outcomeType\": 4}}, \"*\")"
      ],
      "text/plain": [
       "<IPython.core.display.Javascript object>"
      ]
     },
     "metadata": {},
     "output_type": "display_data"
    },
    {
     "data": {
      "text/markdown": [
       "<span style=\"color:#3366cc\">Hint:</span> Use `pd.read_csv`, and follow it with **three** pieces of text that are enclosed in parentheses and separated by commas.  (1) The filepath for the dataset is provided in `fifa_filepath`.  (2) Use the `\"Date\"` column to label the rows. (3) Make sure that the row labels are recognized as dates."
      ],
      "text/plain": [
       "Hint: Use `pd.read_csv`, and follow it with **three** pieces of text that are enclosed in parentheses and separated by commas.  (1) The filepath for the dataset is provided in `fifa_filepath`.  (2) Use the `\"Date\"` column to label the rows. (3) Make sure that the row labels are recognized as dates."
      ]
     },
     "metadata": {},
     "output_type": "display_data"
    },
    {
     "data": {
      "application/javascript": [
       "parent.postMessage({\"jupyterEvent\": \"custom.exercise_interaction\", \"data\": {\"interactionType\": 3, \"questionType\": 1, \"questionId\": \"2_LoadFIFAData\", \"learnToolsVersion\": \"0.3.4\", \"valueTowardsCompletion\": 0.0, \"failureMessage\": \"\", \"exceptionClass\": \"\", \"trace\": \"\", \"outcomeType\": 4}}, \"*\")"
      ],
      "text/plain": [
       "<IPython.core.display.Javascript object>"
      ]
     },
     "metadata": {},
     "output_type": "display_data"
    },
    {
     "data": {
      "text/markdown": [
       "<span style=\"color:#33cc99\">Solution:</span> \n",
       "```python\n",
       "fifa_data = pd.read_csv(fifa_filepath, index_col=\"Date\", parse_dates=True)\n",
       "```"
      ],
      "text/plain": [
       "Solution: \n",
       "```python\n",
       "fifa_data = pd.read_csv(fifa_filepath, index_col=\"Date\", parse_dates=True)\n",
       "```"
      ]
     },
     "metadata": {},
     "output_type": "display_data"
    }
   ],
   "source": [
    "# Uncomment the line below to receive a hint\n",
    "step_2.hint()\n",
    "# Uncomment the line below to see the solution\n",
    "step_2.solution()"
   ]
  },
  {
   "cell_type": "markdown",
   "id": "f65e2501",
   "metadata": {
    "papermill": {
     "duration": 0.006036,
     "end_time": "2024-06-27T01:23:37.619967",
     "exception": false,
     "start_time": "2024-06-27T01:23:37.613931",
     "status": "completed"
    },
    "tags": []
   },
   "source": [
    "Next, remove the pound sign before `step_2.hint()` so that the code cell above appears as follows:\n",
    "```python\n",
    "# Uncomment the line below to receive a hint\n",
    "step_2.hint()\n",
    "#step_2.solution()\n",
    "```\n",
    "When we remove the pound sign before a line of code, we say we **uncomment** the line.  This turns the comment into a line of executable code that is run by the computer.  Run the code cell now, which should return the <font color='#3366cc'>Hint</font> as output.\n",
    "\n",
    "Finally, uncomment the line to see the solution, so the code cell appears as follows:\n",
    "```python\n",
    "# Uncomment the line below to receive a hint\n",
    "step_2.hint()\n",
    "step_2.solution()\n",
    "```\n",
    "Then, run the code cell.  You should receive both a <font color='#3366cc'>Hint</font> and the <font color='#33cc99'>Solution</font>.\n",
    "\n",
    "If at any point you're having trouble with coming up with the correct answer to a problem, you are welcome to obtain either a hint or the solution before completing the cell.  (So, you don't need to get a <font color='#33cc33'>Correct</font> result before running the code that gives you a <font color='#3366cc'>Hint</font> or the <font color='#33cc99'>Solution</font>.)\n",
    "\n",
    "## Step 3: Plot the data\n",
    "\n",
    "Now that the data is loaded into the notebook, you're ready to visualize it!  \n",
    "\n",
    "Run the next code cell without changes to make a line chart.  The code may not make sense yet - you'll learn all about it in the next tutorial!"
   ]
  },
  {
   "cell_type": "code",
   "execution_count": 6,
   "id": "6c89a2fe",
   "metadata": {
    "execution": {
     "iopub.execute_input": "2024-06-27T01:23:37.635099Z",
     "iopub.status.busy": "2024-06-27T01:23:37.634712Z",
     "iopub.status.idle": "2024-06-27T01:23:37.668328Z",
     "shell.execute_reply": "2024-06-27T01:23:37.667286Z"
    },
    "papermill": {
     "duration": 0.043656,
     "end_time": "2024-06-27T01:23:37.670759",
     "exception": false,
     "start_time": "2024-06-27T01:23:37.627103",
     "status": "completed"
    },
    "tags": []
   },
   "outputs": [
    {
     "data": {
      "application/javascript": [
       "parent.postMessage({\"jupyterEvent\": \"custom.exercise_interaction\", \"data\": {\"outcomeType\": 1, \"valueTowardsCompletion\": 0.5, \"interactionType\": 1, \"questionType\": 1, \"questionId\": \"2_LoadFIFAData\", \"learnToolsVersion\": \"0.3.4\", \"failureMessage\": \"\", \"exceptionClass\": \"\", \"trace\": \"\"}}, \"*\")"
      ],
      "text/plain": [
       "<IPython.core.display.Javascript object>"
      ]
     },
     "metadata": {},
     "output_type": "display_data"
    },
    {
     "data": {
      "text/markdown": [
       "<span style=\"color:#33cc33\">Correct</span>"
      ],
      "text/plain": [
       "Correct"
      ]
     },
     "metadata": {},
     "output_type": "display_data"
    },
    {
     "data": {
      "text/html": [
       "<div>\n",
       "<style scoped>\n",
       "    .dataframe tbody tr th:only-of-type {\n",
       "        vertical-align: middle;\n",
       "    }\n",
       "\n",
       "    .dataframe tbody tr th {\n",
       "        vertical-align: top;\n",
       "    }\n",
       "\n",
       "    .dataframe thead th {\n",
       "        text-align: right;\n",
       "    }\n",
       "</style>\n",
       "<table border=\"1\" class=\"dataframe\">\n",
       "  <thead>\n",
       "    <tr style=\"text-align: right;\">\n",
       "      <th></th>\n",
       "      <th>ARG</th>\n",
       "      <th>BRA</th>\n",
       "      <th>ESP</th>\n",
       "      <th>FRA</th>\n",
       "      <th>GER</th>\n",
       "      <th>ITA</th>\n",
       "    </tr>\n",
       "    <tr>\n",
       "      <th>Date</th>\n",
       "      <th></th>\n",
       "      <th></th>\n",
       "      <th></th>\n",
       "      <th></th>\n",
       "      <th></th>\n",
       "      <th></th>\n",
       "    </tr>\n",
       "  </thead>\n",
       "  <tbody>\n",
       "    <tr>\n",
       "      <th>1993-08-08</th>\n",
       "      <td>5.0</td>\n",
       "      <td>8.0</td>\n",
       "      <td>13.0</td>\n",
       "      <td>12.0</td>\n",
       "      <td>1.0</td>\n",
       "      <td>2.0</td>\n",
       "    </tr>\n",
       "    <tr>\n",
       "      <th>1993-09-23</th>\n",
       "      <td>12.0</td>\n",
       "      <td>1.0</td>\n",
       "      <td>14.0</td>\n",
       "      <td>7.0</td>\n",
       "      <td>5.0</td>\n",
       "      <td>2.0</td>\n",
       "    </tr>\n",
       "    <tr>\n",
       "      <th>1993-10-22</th>\n",
       "      <td>9.0</td>\n",
       "      <td>1.0</td>\n",
       "      <td>7.0</td>\n",
       "      <td>14.0</td>\n",
       "      <td>4.0</td>\n",
       "      <td>3.0</td>\n",
       "    </tr>\n",
       "    <tr>\n",
       "      <th>1993-11-19</th>\n",
       "      <td>9.0</td>\n",
       "      <td>4.0</td>\n",
       "      <td>7.0</td>\n",
       "      <td>15.0</td>\n",
       "      <td>3.0</td>\n",
       "      <td>1.0</td>\n",
       "    </tr>\n",
       "    <tr>\n",
       "      <th>1993-12-23</th>\n",
       "      <td>8.0</td>\n",
       "      <td>3.0</td>\n",
       "      <td>5.0</td>\n",
       "      <td>15.0</td>\n",
       "      <td>1.0</td>\n",
       "      <td>2.0</td>\n",
       "    </tr>\n",
       "    <tr>\n",
       "      <th>...</th>\n",
       "      <td>...</td>\n",
       "      <td>...</td>\n",
       "      <td>...</td>\n",
       "      <td>...</td>\n",
       "      <td>...</td>\n",
       "      <td>...</td>\n",
       "    </tr>\n",
       "    <tr>\n",
       "      <th>2018-02-15</th>\n",
       "      <td>4.0</td>\n",
       "      <td>2.0</td>\n",
       "      <td>6.0</td>\n",
       "      <td>9.0</td>\n",
       "      <td>1.0</td>\n",
       "      <td>14.0</td>\n",
       "    </tr>\n",
       "    <tr>\n",
       "      <th>2018-03-15</th>\n",
       "      <td>4.0</td>\n",
       "      <td>2.0</td>\n",
       "      <td>6.0</td>\n",
       "      <td>9.0</td>\n",
       "      <td>1.0</td>\n",
       "      <td>14.0</td>\n",
       "    </tr>\n",
       "    <tr>\n",
       "      <th>2018-04-12</th>\n",
       "      <td>5.0</td>\n",
       "      <td>2.0</td>\n",
       "      <td>8.0</td>\n",
       "      <td>7.0</td>\n",
       "      <td>1.0</td>\n",
       "      <td>20.0</td>\n",
       "    </tr>\n",
       "    <tr>\n",
       "      <th>2018-05-17</th>\n",
       "      <td>5.0</td>\n",
       "      <td>2.0</td>\n",
       "      <td>8.0</td>\n",
       "      <td>7.0</td>\n",
       "      <td>1.0</td>\n",
       "      <td>20.0</td>\n",
       "    </tr>\n",
       "    <tr>\n",
       "      <th>2018-06-07</th>\n",
       "      <td>5.0</td>\n",
       "      <td>2.0</td>\n",
       "      <td>10.0</td>\n",
       "      <td>7.0</td>\n",
       "      <td>1.0</td>\n",
       "      <td>19.0</td>\n",
       "    </tr>\n",
       "  </tbody>\n",
       "</table>\n",
       "<p>286 rows × 6 columns</p>\n",
       "</div>"
      ],
      "text/plain": [
       "             ARG  BRA   ESP   FRA  GER   ITA\n",
       "Date                                        \n",
       "1993-08-08   5.0  8.0  13.0  12.0  1.0   2.0\n",
       "1993-09-23  12.0  1.0  14.0   7.0  5.0   2.0\n",
       "1993-10-22   9.0  1.0   7.0  14.0  4.0   3.0\n",
       "1993-11-19   9.0  4.0   7.0  15.0  3.0   1.0\n",
       "1993-12-23   8.0  3.0   5.0  15.0  1.0   2.0\n",
       "...          ...  ...   ...   ...  ...   ...\n",
       "2018-02-15   4.0  2.0   6.0   9.0  1.0  14.0\n",
       "2018-03-15   4.0  2.0   6.0   9.0  1.0  14.0\n",
       "2018-04-12   5.0  2.0   8.0   7.0  1.0  20.0\n",
       "2018-05-17   5.0  2.0   8.0   7.0  1.0  20.0\n",
       "2018-06-07   5.0  2.0  10.0   7.0  1.0  19.0\n",
       "\n",
       "[286 rows x 6 columns]"
      ]
     },
     "execution_count": 6,
     "metadata": {},
     "output_type": "execute_result"
    }
   ],
   "source": [
    "# Path of the file to read\n",
    "fifa_filepath = \"../input/fifa.csv\"\n",
    "\n",
    "# Fill in the line below to read the file into a variable fifa_data\n",
    "fifa_data = pd.read_csv(fifa_filepath, index_col=\"Date\",parse_dates=True)\n",
    "\n",
    "# Check your answer\n",
    "step_2.check()\n",
    "fifa_data\n"
   ]
  },
  {
   "cell_type": "markdown",
   "id": "109153c9",
   "metadata": {
    "papermill": {
     "duration": 0.007242,
     "end_time": "2024-06-27T01:23:37.684864",
     "exception": false,
     "start_time": "2024-06-27T01:23:37.677622",
     "status": "completed"
    },
    "tags": []
   },
   "source": [
    "Some questions won't require you to write any code.  Instead, you'll interpret visualizations.\n",
    "\n",
    "As an example, consider the question: Considering only the years represented in the dataset, which countries spent at least 5 consecutive years in the #1 ranked spot?\n",
    "\n",
    "To receive a <font color='#3366cc'>Hint</font>, uncomment the line below, and run the code cell."
   ]
  },
  {
   "cell_type": "code",
   "execution_count": 7,
   "id": "105399ca",
   "metadata": {
    "execution": {
     "iopub.execute_input": "2024-06-27T01:23:37.701075Z",
     "iopub.status.busy": "2024-06-27T01:23:37.700259Z",
     "iopub.status.idle": "2024-06-27T01:23:37.708715Z",
     "shell.execute_reply": "2024-06-27T01:23:37.707771Z"
    },
    "papermill": {
     "duration": 0.019231,
     "end_time": "2024-06-27T01:23:37.710845",
     "exception": false,
     "start_time": "2024-06-27T01:23:37.691614",
     "status": "completed"
    },
    "tags": []
   },
   "outputs": [
    {
     "data": {
      "application/javascript": [
       "parent.postMessage({\"jupyterEvent\": \"custom.exercise_interaction\", \"data\": {\"interactionType\": 2, \"questionType\": 4, \"questionId\": \"3.2_ThinkLine\", \"learnToolsVersion\": \"0.3.4\", \"valueTowardsCompletion\": 0.0, \"failureMessage\": \"\", \"exceptionClass\": \"\", \"trace\": \"\", \"outcomeType\": 4}}, \"*\")"
      ],
      "text/plain": [
       "<IPython.core.display.Javascript object>"
      ]
     },
     "metadata": {},
     "output_type": "display_data"
    },
    {
     "data": {
      "text/markdown": [
       "<span style=\"color:#3366cc\">Hint:</span> Which lines stay at least five consecutive years at the bottom of the chart?"
      ],
      "text/plain": [
       "Hint: Which lines stay at least five consecutive years at the bottom of the chart?"
      ]
     },
     "metadata": {},
     "output_type": "display_data"
    }
   ],
   "source": [
    "step_3.b.hint()"
   ]
  },
  {
   "cell_type": "markdown",
   "id": "4194ce47",
   "metadata": {
    "papermill": {
     "duration": 0.006647,
     "end_time": "2024-06-27T01:23:37.725269",
     "exception": false,
     "start_time": "2024-06-27T01:23:37.718622",
     "status": "completed"
    },
    "tags": []
   },
   "source": [
    "Once you have an answer, check the <font color='#33cc99'>Solution</font> to get credit for completing the problem and to ensure your interpretation is right."
   ]
  },
  {
   "cell_type": "code",
   "execution_count": 8,
   "id": "340f68c8",
   "metadata": {
    "execution": {
     "iopub.execute_input": "2024-06-27T01:23:37.740675Z",
     "iopub.status.busy": "2024-06-27T01:23:37.740318Z",
     "iopub.status.idle": "2024-06-27T01:23:37.748542Z",
     "shell.execute_reply": "2024-06-27T01:23:37.747491Z"
    },
    "papermill": {
     "duration": 0.018578,
     "end_time": "2024-06-27T01:23:37.750781",
     "exception": false,
     "start_time": "2024-06-27T01:23:37.732203",
     "status": "completed"
    },
    "tags": []
   },
   "outputs": [
    {
     "data": {
      "application/javascript": [
       "parent.postMessage({\"jupyterEvent\": \"custom.exercise_interaction\", \"data\": {\"interactionType\": 3, \"questionType\": 4, \"questionId\": \"3.2_ThinkLine\", \"learnToolsVersion\": \"0.3.4\", \"valueTowardsCompletion\": 0.0, \"failureMessage\": \"\", \"exceptionClass\": \"\", \"trace\": \"\", \"outcomeType\": 4}}, \"*\")"
      ],
      "text/plain": [
       "<IPython.core.display.Javascript object>"
      ]
     },
     "metadata": {},
     "output_type": "display_data"
    },
    {
     "data": {
      "text/markdown": [
       "<span style=\"color:#33cc99\">Solution:</span> The only country that meets this criterion is Brazil (code: BRA), as it maintains the highest ranking in 1996-2000.  Other countries do spend some time in the number 1 spot, but Brazil is the only country that maintains it for at least five **consecutive** years."
      ],
      "text/plain": [
       "Solution: The only country that meets this criterion is Brazil (code: BRA), as it maintains the highest ranking in 1996-2000.  Other countries do spend some time in the number 1 spot, but Brazil is the only country that maintains it for at least five **consecutive** years."
      ]
     },
     "metadata": {},
     "output_type": "display_data"
    }
   ],
   "source": [
    "# Check your answer (Run this code cell to receive credit!)\n",
    "step_3.b.solution()"
   ]
  },
  {
   "cell_type": "markdown",
   "id": "f453088b",
   "metadata": {
    "papermill": {
     "duration": 0.007687,
     "end_time": "2024-06-27T01:23:37.766270",
     "exception": false,
     "start_time": "2024-06-27T01:23:37.758583",
     "status": "completed"
    },
    "tags": []
   },
   "source": [
    "Congratulations - you have completed your first coding exercise!\n",
    "\n",
    "# Keep going\n",
    "\n",
    "Move on to learn to create your own **[line charts](https://www.kaggle.com/alexisbcook/line-charts)** with a new dataset."
   ]
  },
  {
   "cell_type": "markdown",
   "id": "cba12162",
   "metadata": {
    "papermill": {
     "duration": 0.007212,
     "end_time": "2024-06-27T01:23:37.780785",
     "exception": false,
     "start_time": "2024-06-27T01:23:37.773573",
     "status": "completed"
    },
    "tags": []
   },
   "source": [
    "---\n",
    "\n",
    "\n",
    "\n",
    "\n",
    "*Have questions or comments? Visit the [course discussion forum](https://www.kaggle.com/learn/data-visualization/discussion) to chat with other learners.*"
   ]
  }
 ],
 "metadata": {
  "kaggle": {
   "accelerator": "none",
   "dataSources": [
    {
     "datasetId": 116573,
     "sourceId": 3551030,
     "sourceType": "datasetVersion"
    }
   ],
   "isGpuEnabled": false,
   "isInternetEnabled": false,
   "language": "python",
   "sourceType": "notebook"
  },
  "kernelspec": {
   "display_name": "Python 3",
   "language": "python",
   "name": "python3"
  },
  "language_info": {
   "codemirror_mode": {
    "name": "ipython",
    "version": 3
   },
   "file_extension": ".py",
   "mimetype": "text/x-python",
   "name": "python",
   "nbconvert_exporter": "python",
   "pygments_lexer": "ipython3",
   "version": "3.10.13"
  },
  "papermill": {
   "default_parameters": {},
   "duration": 6.261272,
   "end_time": "2024-06-27T01:23:38.409211",
   "environment_variables": {},
   "exception": null,
   "input_path": "__notebook__.ipynb",
   "output_path": "__notebook__.ipynb",
   "parameters": {},
   "start_time": "2024-06-27T01:23:32.147939",
   "version": "2.5.0"
  }
 },
 "nbformat": 4,
 "nbformat_minor": 5
}
