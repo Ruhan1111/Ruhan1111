{
 "cells": [
  {
   "cell_type": "markdown",
   "id": "6af50f09",
   "metadata": {
    "papermill": {
     "duration": 0.009073,
     "end_time": "2024-06-27T01:20:27.755238",
     "exception": false,
     "start_time": "2024-06-27T01:20:27.746165",
     "status": "completed"
    },
    "tags": []
   },
   "source": [
    "**This notebook is an exercise in the [Pandas](https://www.kaggle.com/learn/pandas) course.  You can reference the tutorial at [this link](https://www.kaggle.com/residentmario/grouping-and-sorting).**\n",
    "\n",
    "---\n"
   ]
  },
  {
   "cell_type": "markdown",
   "id": "25fd1f3d",
   "metadata": {
    "papermill": {
     "duration": 0.009147,
     "end_time": "2024-06-27T01:20:27.773224",
     "exception": false,
     "start_time": "2024-06-27T01:20:27.764077",
     "status": "completed"
    },
    "tags": []
   },
   "source": [
    "# Introduction\n",
    "\n",
    "In these exercises we'll apply groupwise analysis to our dataset.\n",
    "\n",
    "Run the code cell below to load the data before running the exercises."
   ]
  },
  {
   "cell_type": "code",
   "execution_count": 1,
   "id": "ff433876",
   "metadata": {
    "execution": {
     "iopub.execute_input": "2024-06-27T01:20:27.793175Z",
     "iopub.status.busy": "2024-06-27T01:20:27.792712Z",
     "iopub.status.idle": "2024-06-27T01:20:32.580134Z",
     "shell.execute_reply": "2024-06-27T01:20:32.578622Z"
    },
    "papermill": {
     "duration": 4.801656,
     "end_time": "2024-06-27T01:20:32.583633",
     "exception": false,
     "start_time": "2024-06-27T01:20:27.781977",
     "status": "completed"
    },
    "tags": []
   },
   "outputs": [
    {
     "name": "stdout",
     "output_type": "stream",
     "text": [
      "Setup complete.\n"
     ]
    },
    {
     "name": "stderr",
     "output_type": "stream",
     "text": [
      "/opt/conda/lib/python3.10/site-packages/learntools/pandas/grouping_and_sorting.py:29: FutureWarning: The provided callable <built-in function min> is currently using SeriesGroupBy.min. In a future version of pandas, the provided callable will be used directly. To keep current behavior pass the string \"min\" instead.\n",
      "  _expected = reviews.groupby('variety').price.agg([min, max])\n",
      "/opt/conda/lib/python3.10/site-packages/learntools/pandas/grouping_and_sorting.py:29: FutureWarning: The provided callable <built-in function max> is currently using SeriesGroupBy.max. In a future version of pandas, the provided callable will be used directly. To keep current behavior pass the string \"max\" instead.\n",
      "  _expected = reviews.groupby('variety').price.agg([min, max])\n",
      "/opt/conda/lib/python3.10/site-packages/learntools/pandas/grouping_and_sorting.py:35: FutureWarning: The provided callable <built-in function min> is currently using SeriesGroupBy.min. In a future version of pandas, the provided callable will be used directly. To keep current behavior pass the string \"min\" instead.\n",
      "  _expected = reviews.groupby('variety').price.agg([min, max]).sort_values(by=['min', 'max'], ascending=False)\n",
      "/opt/conda/lib/python3.10/site-packages/learntools/pandas/grouping_and_sorting.py:35: FutureWarning: The provided callable <built-in function max> is currently using SeriesGroupBy.max. In a future version of pandas, the provided callable will be used directly. To keep current behavior pass the string \"max\" instead.\n",
      "  _expected = reviews.groupby('variety').price.agg([min, max]).sort_values(by=['min', 'max'], ascending=False)\n"
     ]
    }
   ],
   "source": [
    "import pandas as pd\n",
    "\n",
    "reviews = pd.read_csv(\"../input/wine-reviews/winemag-data-130k-v2.csv\", index_col=0)\n",
    "#pd.set_option(\"display.max_rows\", 5)\n",
    "\n",
    "from learntools.core import binder; binder.bind(globals())\n",
    "from learntools.pandas.grouping_and_sorting import *\n",
    "print(\"Setup complete.\")"
   ]
  },
  {
   "cell_type": "markdown",
   "id": "69f7d72d",
   "metadata": {
    "papermill": {
     "duration": 0.008091,
     "end_time": "2024-06-27T01:20:32.601170",
     "exception": false,
     "start_time": "2024-06-27T01:20:32.593079",
     "status": "completed"
    },
    "tags": []
   },
   "source": [
    "# Exercises"
   ]
  },
  {
   "cell_type": "markdown",
   "id": "cc4b1646",
   "metadata": {
    "papermill": {
     "duration": 0.008212,
     "end_time": "2024-06-27T01:20:32.617887",
     "exception": false,
     "start_time": "2024-06-27T01:20:32.609675",
     "status": "completed"
    },
    "tags": []
   },
   "source": [
    "## 1.\n",
    "Who are the most common wine reviewers in the dataset? Create a `Series` whose index is the `taster_twitter_handle` category from the dataset, and whose values count how many reviews each person wrote."
   ]
  },
  {
   "cell_type": "code",
   "execution_count": 2,
   "id": "f3052e4d",
   "metadata": {
    "execution": {
     "iopub.execute_input": "2024-06-27T01:20:32.636822Z",
     "iopub.status.busy": "2024-06-27T01:20:32.636399Z",
     "iopub.status.idle": "2024-06-27T01:20:32.649162Z",
     "shell.execute_reply": "2024-06-27T01:20:32.647677Z"
    },
    "papermill": {
     "duration": 0.027435,
     "end_time": "2024-06-27T01:20:32.653794",
     "exception": false,
     "start_time": "2024-06-27T01:20:32.626359",
     "status": "completed"
    },
    "tags": []
   },
   "outputs": [
    {
     "data": {
      "application/javascript": [
       "parent.postMessage({\"jupyterEvent\": \"custom.exercise_interaction\", \"data\": {\"outcomeType\": 4, \"interactionType\": 1, \"questionType\": 1, \"questionId\": \"1_ReviewsWritten\", \"learnToolsVersion\": \"0.3.4\", \"valueTowardsCompletion\": 0.0, \"failureMessage\": \"\", \"exceptionClass\": \"\", \"trace\": \"\"}}, \"*\")"
      ],
      "text/plain": [
       "<IPython.core.display.Javascript object>"
      ]
     },
     "metadata": {},
     "output_type": "display_data"
    },
    {
     "data": {
      "text/markdown": [
       "<span style=\"color:#ccaa33\">Check:</span> When you've updated the starter code, `check()` will tell you whether your code is correct. You need to update the code that creates variable `reviews_written`"
      ],
      "text/plain": [
       "Check: When you've updated the starter code, `check()` will tell you whether your code is correct. You need to update the code that creates variable `reviews_written`"
      ]
     },
     "metadata": {},
     "output_type": "display_data"
    }
   ],
   "source": [
    "# Your code here\n",
    "reviews_written = ____\n",
    "\n",
    "# Check your answer\n",
    "q1.check()"
   ]
  },
  {
   "cell_type": "code",
   "execution_count": 3,
   "id": "3d5fafda",
   "metadata": {
    "execution": {
     "iopub.execute_input": "2024-06-27T01:20:32.677504Z",
     "iopub.status.busy": "2024-06-27T01:20:32.676972Z",
     "iopub.status.idle": "2024-06-27T01:20:32.692541Z",
     "shell.execute_reply": "2024-06-27T01:20:32.690907Z"
    },
    "papermill": {
     "duration": 0.03166,
     "end_time": "2024-06-27T01:20:32.697496",
     "exception": false,
     "start_time": "2024-06-27T01:20:32.665836",
     "status": "completed"
    },
    "tags": []
   },
   "outputs": [
    {
     "data": {
      "application/javascript": [
       "parent.postMessage({\"jupyterEvent\": \"custom.exercise_interaction\", \"data\": {\"interactionType\": 3, \"questionType\": 1, \"questionId\": \"1_ReviewsWritten\", \"learnToolsVersion\": \"0.3.4\", \"valueTowardsCompletion\": 0.0, \"failureMessage\": \"\", \"exceptionClass\": \"\", \"trace\": \"\", \"outcomeType\": 4}}, \"*\")"
      ],
      "text/plain": [
       "<IPython.core.display.Javascript object>"
      ]
     },
     "metadata": {},
     "output_type": "display_data"
    },
    {
     "data": {
      "text/markdown": [
       "<span style=\"color:#33cc99\">Solution:</span> \n",
       "```python\n",
       "reviews_written = reviews.groupby('taster_twitter_handle').size()\n",
       "```\n",
       "or\n",
       "```python\n",
       "reviews_written = reviews.groupby('taster_twitter_handle').taster_twitter_handle.count()\n",
       "```\n"
      ],
      "text/plain": [
       "Solution: \n",
       "```python\n",
       "reviews_written = reviews.groupby('taster_twitter_handle').size()\n",
       "```\n",
       "or\n",
       "```python\n",
       "reviews_written = reviews.groupby('taster_twitter_handle').taster_twitter_handle.count()\n",
       "```"
      ]
     },
     "metadata": {},
     "output_type": "display_data"
    }
   ],
   "source": [
    "#q1.hint()\n",
    "q1.solution()"
   ]
  },
  {
   "cell_type": "markdown",
   "id": "87f8bb7a",
   "metadata": {
    "papermill": {
     "duration": 0.012616,
     "end_time": "2024-06-27T01:20:32.724295",
     "exception": false,
     "start_time": "2024-06-27T01:20:32.711679",
     "status": "completed"
    },
    "tags": []
   },
   "source": [
    "## 2.\n",
    "What is the best wine I can buy for a given amount of money? Create a `Series` whose index is wine prices and whose values is the maximum number of points a wine costing that much was given in a review. Sort the values by price, ascending (so that `4.0` dollars is at the top and `3300.0` dollars is at the bottom)."
   ]
  },
  {
   "cell_type": "code",
   "execution_count": 4,
   "id": "1f5302e7",
   "metadata": {
    "execution": {
     "iopub.execute_input": "2024-06-27T01:20:32.755461Z",
     "iopub.status.busy": "2024-06-27T01:20:32.754861Z",
     "iopub.status.idle": "2024-06-27T01:20:32.767029Z",
     "shell.execute_reply": "2024-06-27T01:20:32.764993Z"
    },
    "papermill": {
     "duration": 0.031652,
     "end_time": "2024-06-27T01:20:32.770093",
     "exception": false,
     "start_time": "2024-06-27T01:20:32.738441",
     "status": "completed"
    },
    "tags": []
   },
   "outputs": [
    {
     "data": {
      "application/javascript": [
       "parent.postMessage({\"jupyterEvent\": \"custom.exercise_interaction\", \"data\": {\"outcomeType\": 4, \"interactionType\": 1, \"questionType\": 1, \"questionId\": \"2_BestRatingPerPrice\", \"learnToolsVersion\": \"0.3.4\", \"valueTowardsCompletion\": 0.0, \"failureMessage\": \"\", \"exceptionClass\": \"\", \"trace\": \"\"}}, \"*\")"
      ],
      "text/plain": [
       "<IPython.core.display.Javascript object>"
      ]
     },
     "metadata": {},
     "output_type": "display_data"
    },
    {
     "data": {
      "text/markdown": [
       "<span style=\"color:#ccaa33\">Check:</span> When you've updated the starter code, `check()` will tell you whether your code is correct. You need to update the code that creates variable `best_rating_per_price`"
      ],
      "text/plain": [
       "Check: When you've updated the starter code, `check()` will tell you whether your code is correct. You need to update the code that creates variable `best_rating_per_price`"
      ]
     },
     "metadata": {},
     "output_type": "display_data"
    }
   ],
   "source": [
    "best_rating_per_price = ____\n",
    "\n",
    "# Check your answer\n",
    "q2.check()"
   ]
  },
  {
   "cell_type": "code",
   "execution_count": 5,
   "id": "5573917f",
   "metadata": {
    "execution": {
     "iopub.execute_input": "2024-06-27T01:20:32.798031Z",
     "iopub.status.busy": "2024-06-27T01:20:32.796826Z",
     "iopub.status.idle": "2024-06-27T01:20:32.802783Z",
     "shell.execute_reply": "2024-06-27T01:20:32.801266Z"
    },
    "papermill": {
     "duration": 0.023215,
     "end_time": "2024-06-27T01:20:32.805937",
     "exception": false,
     "start_time": "2024-06-27T01:20:32.782722",
     "status": "completed"
    },
    "tags": []
   },
   "outputs": [],
   "source": [
    "#q2.hint()\n",
    "#q2.solution()"
   ]
  },
  {
   "cell_type": "markdown",
   "id": "d3c0d69d",
   "metadata": {
    "papermill": {
     "duration": 0.00962,
     "end_time": "2024-06-27T01:20:32.825932",
     "exception": false,
     "start_time": "2024-06-27T01:20:32.816312",
     "status": "completed"
    },
    "tags": []
   },
   "source": [
    "## 3.\n",
    "What are the minimum and maximum prices for each `variety` of wine? Create a `DataFrame` whose index is the `variety` category from the dataset and whose values are the `min` and `max` values thereof."
   ]
  },
  {
   "cell_type": "code",
   "execution_count": 6,
   "id": "66892d99",
   "metadata": {
    "execution": {
     "iopub.execute_input": "2024-06-27T01:20:32.848426Z",
     "iopub.status.busy": "2024-06-27T01:20:32.847960Z",
     "iopub.status.idle": "2024-06-27T01:20:32.861240Z",
     "shell.execute_reply": "2024-06-27T01:20:32.859432Z"
    },
    "papermill": {
     "duration": 0.027938,
     "end_time": "2024-06-27T01:20:32.863989",
     "exception": false,
     "start_time": "2024-06-27T01:20:32.836051",
     "status": "completed"
    },
    "tags": []
   },
   "outputs": [
    {
     "data": {
      "application/javascript": [
       "parent.postMessage({\"jupyterEvent\": \"custom.exercise_interaction\", \"data\": {\"outcomeType\": 4, \"interactionType\": 1, \"questionType\": 1, \"questionId\": \"3_PriceExtremes\", \"learnToolsVersion\": \"0.3.4\", \"valueTowardsCompletion\": 0.0, \"failureMessage\": \"\", \"exceptionClass\": \"\", \"trace\": \"\"}}, \"*\")"
      ],
      "text/plain": [
       "<IPython.core.display.Javascript object>"
      ]
     },
     "metadata": {},
     "output_type": "display_data"
    },
    {
     "data": {
      "text/markdown": [
       "<span style=\"color:#ccaa33\">Check:</span> When you've updated the starter code, `check()` will tell you whether your code is correct. You need to update the code that creates variable `price_extremes`"
      ],
      "text/plain": [
       "Check: When you've updated the starter code, `check()` will tell you whether your code is correct. You need to update the code that creates variable `price_extremes`"
      ]
     },
     "metadata": {},
     "output_type": "display_data"
    }
   ],
   "source": [
    "price_extremes = ____\n",
    "\n",
    "# Check your answer\n",
    "q3.check()"
   ]
  },
  {
   "cell_type": "code",
   "execution_count": 7,
   "id": "d7d0626a",
   "metadata": {
    "execution": {
     "iopub.execute_input": "2024-06-27T01:20:32.892815Z",
     "iopub.status.busy": "2024-06-27T01:20:32.891611Z",
     "iopub.status.idle": "2024-06-27T01:20:32.897187Z",
     "shell.execute_reply": "2024-06-27T01:20:32.895929Z"
    },
    "papermill": {
     "duration": 0.024299,
     "end_time": "2024-06-27T01:20:32.900172",
     "exception": false,
     "start_time": "2024-06-27T01:20:32.875873",
     "status": "completed"
    },
    "tags": []
   },
   "outputs": [],
   "source": [
    "#q3.hint()\n",
    "#q3.solution()"
   ]
  },
  {
   "cell_type": "markdown",
   "id": "0eee03b1",
   "metadata": {
    "papermill": {
     "duration": 0.015012,
     "end_time": "2024-06-27T01:20:32.929613",
     "exception": false,
     "start_time": "2024-06-27T01:20:32.914601",
     "status": "completed"
    },
    "tags": []
   },
   "source": [
    "## 4.\n",
    "What are the most expensive wine varieties? Create a variable `sorted_varieties` containing a copy of the dataframe from the previous question where varieties are sorted in descending order based on minimum price, then on maximum price (to break ties)."
   ]
  },
  {
   "cell_type": "code",
   "execution_count": 8,
   "id": "7a78c461",
   "metadata": {
    "execution": {
     "iopub.execute_input": "2024-06-27T01:20:32.953317Z",
     "iopub.status.busy": "2024-06-27T01:20:32.952876Z",
     "iopub.status.idle": "2024-06-27T01:20:32.963288Z",
     "shell.execute_reply": "2024-06-27T01:20:32.961748Z"
    },
    "papermill": {
     "duration": 0.025026,
     "end_time": "2024-06-27T01:20:32.966163",
     "exception": false,
     "start_time": "2024-06-27T01:20:32.941137",
     "status": "completed"
    },
    "tags": []
   },
   "outputs": [
    {
     "data": {
      "application/javascript": [
       "parent.postMessage({\"jupyterEvent\": \"custom.exercise_interaction\", \"data\": {\"outcomeType\": 4, \"interactionType\": 1, \"questionType\": 1, \"questionId\": \"4_SortedVarieties\", \"learnToolsVersion\": \"0.3.4\", \"valueTowardsCompletion\": 0.0, \"failureMessage\": \"\", \"exceptionClass\": \"\", \"trace\": \"\"}}, \"*\")"
      ],
      "text/plain": [
       "<IPython.core.display.Javascript object>"
      ]
     },
     "metadata": {},
     "output_type": "display_data"
    },
    {
     "data": {
      "text/markdown": [
       "<span style=\"color:#ccaa33\">Check:</span> When you've updated the starter code, `check()` will tell you whether your code is correct. You need to update the code that creates variable `sorted_varieties`"
      ],
      "text/plain": [
       "Check: When you've updated the starter code, `check()` will tell you whether your code is correct. You need to update the code that creates variable `sorted_varieties`"
      ]
     },
     "metadata": {},
     "output_type": "display_data"
    }
   ],
   "source": [
    "sorted_varieties = ____\n",
    "\n",
    "# Check your answer\n",
    "q4.check()"
   ]
  },
  {
   "cell_type": "code",
   "execution_count": 9,
   "id": "7a665864",
   "metadata": {
    "execution": {
     "iopub.execute_input": "2024-06-27T01:20:32.989347Z",
     "iopub.status.busy": "2024-06-27T01:20:32.988936Z",
     "iopub.status.idle": "2024-06-27T01:20:32.994302Z",
     "shell.execute_reply": "2024-06-27T01:20:32.992740Z"
    },
    "papermill": {
     "duration": 0.020006,
     "end_time": "2024-06-27T01:20:32.996910",
     "exception": false,
     "start_time": "2024-06-27T01:20:32.976904",
     "status": "completed"
    },
    "tags": []
   },
   "outputs": [],
   "source": [
    "#q4.hint()\n",
    "#q4.solution()"
   ]
  },
  {
   "cell_type": "markdown",
   "id": "17189665",
   "metadata": {
    "papermill": {
     "duration": 0.009923,
     "end_time": "2024-06-27T01:20:33.017736",
     "exception": false,
     "start_time": "2024-06-27T01:20:33.007813",
     "status": "completed"
    },
    "tags": []
   },
   "source": [
    "## 5.\n",
    "Create a `Series` whose index is reviewers and whose values is the average review score given out by that reviewer. Hint: you will need the `taster_name` and `points` columns."
   ]
  },
  {
   "cell_type": "code",
   "execution_count": 10,
   "id": "cebe60a7",
   "metadata": {
    "execution": {
     "iopub.execute_input": "2024-06-27T01:20:33.040212Z",
     "iopub.status.busy": "2024-06-27T01:20:33.039734Z",
     "iopub.status.idle": "2024-06-27T01:20:33.076603Z",
     "shell.execute_reply": "2024-06-27T01:20:33.075504Z"
    },
    "papermill": {
     "duration": 0.051371,
     "end_time": "2024-06-27T01:20:33.079313",
     "exception": false,
     "start_time": "2024-06-27T01:20:33.027942",
     "status": "completed"
    },
    "tags": []
   },
   "outputs": [
    {
     "data": {
      "application/javascript": [
       "parent.postMessage({\"jupyterEvent\": \"custom.exercise_interaction\", \"data\": {\"outcomeType\": 1, \"valueTowardsCompletion\": 0.16666666666666666, \"interactionType\": 1, \"questionType\": 1, \"questionId\": \"5_ReviewerMeanRatings\", \"learnToolsVersion\": \"0.3.4\", \"failureMessage\": \"\", \"exceptionClass\": \"\", \"trace\": \"\"}}, \"*\")"
      ],
      "text/plain": [
       "<IPython.core.display.Javascript object>"
      ]
     },
     "metadata": {},
     "output_type": "display_data"
    },
    {
     "data": {
      "text/markdown": [
       "<span style=\"color:#33cc33\">Correct</span>"
      ],
      "text/plain": [
       "Correct"
      ]
     },
     "metadata": {},
     "output_type": "display_data"
    }
   ],
   "source": [
    "reviewer_mean_ratings = reviews.groupby(['taster_name']).points.mean()\n",
    "\n",
    "# Check your answer\n",
    "q5.check()"
   ]
  },
  {
   "cell_type": "code",
   "execution_count": 11,
   "id": "5e161b4b",
   "metadata": {
    "execution": {
     "iopub.execute_input": "2024-06-27T01:20:33.103173Z",
     "iopub.status.busy": "2024-06-27T01:20:33.102706Z",
     "iopub.status.idle": "2024-06-27T01:20:33.113045Z",
     "shell.execute_reply": "2024-06-27T01:20:33.111825Z"
    },
    "papermill": {
     "duration": 0.025301,
     "end_time": "2024-06-27T01:20:33.115621",
     "exception": false,
     "start_time": "2024-06-27T01:20:33.090320",
     "status": "completed"
    },
    "tags": []
   },
   "outputs": [
    {
     "data": {
      "application/javascript": [
       "parent.postMessage({\"jupyterEvent\": \"custom.exercise_interaction\", \"data\": {\"interactionType\": 2, \"questionType\": 1, \"questionId\": \"5_ReviewerMeanRatings\", \"learnToolsVersion\": \"0.3.4\", \"valueTowardsCompletion\": 0.0, \"failureMessage\": \"\", \"exceptionClass\": \"\", \"trace\": \"\", \"outcomeType\": 4}}, \"*\")"
      ],
      "text/plain": [
       "<IPython.core.display.Javascript object>"
      ]
     },
     "metadata": {},
     "output_type": "display_data"
    },
    {
     "data": {
      "text/markdown": [
       "<span style=\"color:#3366cc\">Hint:</span> Use `mean()`."
      ],
      "text/plain": [
       "Hint: Use `mean()`."
      ]
     },
     "metadata": {},
     "output_type": "display_data"
    }
   ],
   "source": [
    "q5.hint()\n",
    "#q5.solution()"
   ]
  },
  {
   "cell_type": "markdown",
   "id": "354a14ee",
   "metadata": {
    "papermill": {
     "duration": 0.010405,
     "end_time": "2024-06-27T01:20:33.136761",
     "exception": false,
     "start_time": "2024-06-27T01:20:33.126356",
     "status": "completed"
    },
    "tags": []
   },
   "source": [
    "Are there significant differences in the average scores assigned by the various reviewers? Run the cell below to use the `describe()` method to see a summary of the range of values."
   ]
  },
  {
   "cell_type": "code",
   "execution_count": 12,
   "id": "dd540710",
   "metadata": {
    "execution": {
     "iopub.execute_input": "2024-06-27T01:20:33.160990Z",
     "iopub.status.busy": "2024-06-27T01:20:33.160486Z",
     "iopub.status.idle": "2024-06-27T01:20:33.175407Z",
     "shell.execute_reply": "2024-06-27T01:20:33.173887Z"
    },
    "papermill": {
     "duration": 0.030365,
     "end_time": "2024-06-27T01:20:33.178261",
     "exception": false,
     "start_time": "2024-06-27T01:20:33.147896",
     "status": "completed"
    },
    "tags": []
   },
   "outputs": [
    {
     "data": {
      "text/plain": [
       "count    19.000000\n",
       "mean     88.233026\n",
       "std       1.243610\n",
       "min      85.855422\n",
       "25%      87.323501\n",
       "50%      88.536235\n",
       "75%      88.975256\n",
       "max      90.562551\n",
       "Name: points, dtype: float64"
      ]
     },
     "execution_count": 12,
     "metadata": {},
     "output_type": "execute_result"
    }
   ],
   "source": [
    "reviewer_mean_ratings.describe()"
   ]
  },
  {
   "cell_type": "markdown",
   "id": "20e7a7c4",
   "metadata": {
    "papermill": {
     "duration": 0.011196,
     "end_time": "2024-06-27T01:20:33.201026",
     "exception": false,
     "start_time": "2024-06-27T01:20:33.189830",
     "status": "completed"
    },
    "tags": []
   },
   "source": [
    "## 6.\n",
    "What combination of countries and varieties are most common? Create a `Series` whose index is a `MultiIndex`of `{country, variety}` pairs. For example, a pinot noir produced in the US should map to `{\"US\", \"Pinot Noir\"}`. Sort the values in the `Series` in descending order based on wine count."
   ]
  },
  {
   "cell_type": "code",
   "execution_count": 13,
   "id": "c6a4d00c",
   "metadata": {
    "execution": {
     "iopub.execute_input": "2024-06-27T01:20:33.226728Z",
     "iopub.status.busy": "2024-06-27T01:20:33.226283Z",
     "iopub.status.idle": "2024-06-27T01:20:33.294283Z",
     "shell.execute_reply": "2024-06-27T01:20:33.292879Z"
    },
    "papermill": {
     "duration": 0.084255,
     "end_time": "2024-06-27T01:20:33.296861",
     "exception": false,
     "start_time": "2024-06-27T01:20:33.212606",
     "status": "completed"
    },
    "tags": []
   },
   "outputs": [
    {
     "data": {
      "application/javascript": [
       "parent.postMessage({\"jupyterEvent\": \"custom.exercise_interaction\", \"data\": {\"outcomeType\": 1, \"valueTowardsCompletion\": 0.16666666666666666, \"interactionType\": 1, \"questionType\": 1, \"questionId\": \"6_GroupbyCountryVariety\", \"learnToolsVersion\": \"0.3.4\", \"failureMessage\": \"\", \"exceptionClass\": \"\", \"trace\": \"\"}}, \"*\")"
      ],
      "text/plain": [
       "<IPython.core.display.Javascript object>"
      ]
     },
     "metadata": {},
     "output_type": "display_data"
    },
    {
     "data": {
      "text/markdown": [
       "<span style=\"color:#33cc33\">Correct</span>"
      ],
      "text/plain": [
       "Correct"
      ]
     },
     "metadata": {},
     "output_type": "display_data"
    }
   ],
   "source": [
    "country_variety_counts = reviews.groupby(['country', 'variety']).size().sort_values(ascending=False)\n",
    "# Check your answer\n",
    "q6.check()"
   ]
  },
  {
   "cell_type": "code",
   "execution_count": 14,
   "id": "aefc6dd8",
   "metadata": {
    "execution": {
     "iopub.execute_input": "2024-06-27T01:20:33.323687Z",
     "iopub.status.busy": "2024-06-27T01:20:33.322294Z",
     "iopub.status.idle": "2024-06-27T01:20:33.336642Z",
     "shell.execute_reply": "2024-06-27T01:20:33.335299Z"
    },
    "papermill": {
     "duration": 0.030911,
     "end_time": "2024-06-27T01:20:33.339485",
     "exception": false,
     "start_time": "2024-06-27T01:20:33.308574",
     "status": "completed"
    },
    "tags": []
   },
   "outputs": [
    {
     "data": {
      "application/javascript": [
       "parent.postMessage({\"jupyterEvent\": \"custom.exercise_interaction\", \"data\": {\"interactionType\": 2, \"questionType\": 1, \"questionId\": \"6_GroupbyCountryVariety\", \"learnToolsVersion\": \"0.3.4\", \"valueTowardsCompletion\": 0.0, \"failureMessage\": \"\", \"exceptionClass\": \"\", \"trace\": \"\", \"outcomeType\": 4}}, \"*\")"
      ],
      "text/plain": [
       "<IPython.core.display.Javascript object>"
      ]
     },
     "metadata": {},
     "output_type": "display_data"
    },
    {
     "data": {
      "text/markdown": [
       "<span style=\"color:#3366cc\">Hint:</span> Use `groupby()`, and provide a list of columns to group by.  You may also find `size()` and `sort_values()` to be useful!"
      ],
      "text/plain": [
       "Hint: Use `groupby()`, and provide a list of columns to group by.  You may also find `size()` and `sort_values()` to be useful!"
      ]
     },
     "metadata": {},
     "output_type": "display_data"
    },
    {
     "data": {
      "application/javascript": [
       "parent.postMessage({\"jupyterEvent\": \"custom.exercise_interaction\", \"data\": {\"interactionType\": 3, \"questionType\": 1, \"questionId\": \"6_GroupbyCountryVariety\", \"learnToolsVersion\": \"0.3.4\", \"valueTowardsCompletion\": 0.0, \"failureMessage\": \"\", \"exceptionClass\": \"\", \"trace\": \"\", \"outcomeType\": 4}}, \"*\")"
      ],
      "text/plain": [
       "<IPython.core.display.Javascript object>"
      ]
     },
     "metadata": {},
     "output_type": "display_data"
    },
    {
     "data": {
      "text/markdown": [
       "<span style=\"color:#33cc99\">Solution:</span> \n",
       "```python\n",
       "country_variety_counts = reviews.groupby(['country', 'variety']).size().sort_values(ascending=False)\n",
       "```"
      ],
      "text/plain": [
       "Solution: \n",
       "```python\n",
       "country_variety_counts = reviews.groupby(['country', 'variety']).size().sort_values(ascending=False)\n",
       "```"
      ]
     },
     "metadata": {},
     "output_type": "display_data"
    }
   ],
   "source": [
    "q6.hint()\n",
    "q6.solution()"
   ]
  },
  {
   "cell_type": "markdown",
   "id": "576adfd0",
   "metadata": {
    "papermill": {
     "duration": 0.011707,
     "end_time": "2024-06-27T01:20:33.363422",
     "exception": false,
     "start_time": "2024-06-27T01:20:33.351715",
     "status": "completed"
    },
    "tags": []
   },
   "source": [
    "# Keep going\n",
    "\n",
    "Move on to the [**data types and missing data**](https://www.kaggle.com/residentmario/data-types-and-missing-values)."
   ]
  },
  {
   "cell_type": "markdown",
   "id": "06810929",
   "metadata": {
    "papermill": {
     "duration": 0.011606,
     "end_time": "2024-06-27T01:20:33.386952",
     "exception": false,
     "start_time": "2024-06-27T01:20:33.375346",
     "status": "completed"
    },
    "tags": []
   },
   "source": [
    "---\n",
    "\n",
    "\n",
    "\n",
    "\n",
    "*Have questions or comments? Visit the [course discussion forum](https://www.kaggle.com/learn/pandas/discussion) to chat with other learners.*"
   ]
  }
 ],
 "metadata": {
  "kaggle": {
   "accelerator": "none",
   "dataSources": [
    {
     "datasetId": 655,
     "sourceId": 1252,
     "sourceType": "datasetVersion"
    },
    {
     "datasetId": 2321,
     "sourceId": 3919,
     "sourceType": "datasetVersion"
    },
    {
     "datasetId": 2894,
     "sourceId": 4877,
     "sourceType": "datasetVersion"
    },
    {
     "datasetId": 3491,
     "sourceId": 5624,
     "sourceType": "datasetVersion"
    },
    {
     "datasetId": 1442,
     "sourceId": 8172,
     "sourceType": "datasetVersion"
    },
    {
     "datasetId": 9366,
     "sourceId": 13206,
     "sourceType": "datasetVersion"
    },
    {
     "datasetId": 179555,
     "sourceId": 403916,
     "sourceType": "datasetVersion"
    },
    {
     "datasetId": 4549,
     "sourceId": 466349,
     "sourceType": "datasetVersion"
    },
    {
     "datasetId": 2478,
     "sourceId": 1151655,
     "sourceType": "datasetVersion"
    },
    {
     "datasetId": 10128,
     "sourceId": 5438389,
     "sourceType": "datasetVersion"
    }
   ],
   "isGpuEnabled": false,
   "isInternetEnabled": false,
   "language": "python",
   "sourceType": "notebook"
  },
  "kernelspec": {
   "display_name": "Python 3",
   "language": "python",
   "name": "python3"
  },
  "language_info": {
   "codemirror_mode": {
    "name": "ipython",
    "version": 3
   },
   "file_extension": ".py",
   "mimetype": "text/x-python",
   "name": "python",
   "nbconvert_exporter": "python",
   "pygments_lexer": "ipython3",
   "version": "3.10.13"
  },
  "papermill": {
   "default_parameters": {},
   "duration": 9.915258,
   "end_time": "2024-06-27T01:20:34.222537",
   "environment_variables": {},
   "exception": null,
   "input_path": "__notebook__.ipynb",
   "output_path": "__notebook__.ipynb",
   "parameters": {},
   "start_time": "2024-06-27T01:20:24.307279",
   "version": "2.5.0"
  }
 },
 "nbformat": 4,
 "nbformat_minor": 5
}
