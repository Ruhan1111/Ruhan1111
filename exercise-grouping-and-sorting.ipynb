{
 "cells": [
  {
   "cell_type": "markdown",
   "id": "4485896c",
   "metadata": {
    "papermill": {
     "duration": 0.009844,
     "end_time": "2024-06-27T01:21:46.553837",
     "exception": false,
     "start_time": "2024-06-27T01:21:46.543993",
     "status": "completed"
    },
    "tags": []
   },
   "source": [
    "**This notebook is an exercise in the [Pandas](https://www.kaggle.com/learn/pandas) course.  You can reference the tutorial at [this link](https://www.kaggle.com/residentmario/grouping-and-sorting).**\n",
    "\n",
    "---\n"
   ]
  },
  {
   "cell_type": "markdown",
   "id": "1516c735",
   "metadata": {
    "papermill": {
     "duration": 0.008671,
     "end_time": "2024-06-27T01:21:46.571121",
     "exception": false,
     "start_time": "2024-06-27T01:21:46.562450",
     "status": "completed"
    },
    "tags": []
   },
   "source": [
    "# Introduction\n",
    "\n",
    "In these exercises we'll apply groupwise analysis to our dataset.\n",
    "\n",
    "Run the code cell below to load the data before running the exercises."
   ]
  },
  {
   "cell_type": "code",
   "execution_count": 1,
   "id": "0376aa7e",
   "metadata": {
    "execution": {
     "iopub.execute_input": "2024-06-27T01:21:46.590986Z",
     "iopub.status.busy": "2024-06-27T01:21:46.589924Z",
     "iopub.status.idle": "2024-06-27T01:21:51.220678Z",
     "shell.execute_reply": "2024-06-27T01:21:51.219028Z"
    },
    "papermill": {
     "duration": 4.645944,
     "end_time": "2024-06-27T01:21:51.225583",
     "exception": false,
     "start_time": "2024-06-27T01:21:46.579639",
     "status": "completed"
    },
    "tags": []
   },
   "outputs": [
    {
     "name": "stdout",
     "output_type": "stream",
     "text": [
      "Setup complete.\n"
     ]
    },
    {
     "name": "stderr",
     "output_type": "stream",
     "text": [
      "/opt/conda/lib/python3.10/site-packages/learntools/pandas/grouping_and_sorting.py:29: FutureWarning: The provided callable <built-in function min> is currently using SeriesGroupBy.min. In a future version of pandas, the provided callable will be used directly. To keep current behavior pass the string \"min\" instead.\n",
      "  _expected = reviews.groupby('variety').price.agg([min, max])\n",
      "/opt/conda/lib/python3.10/site-packages/learntools/pandas/grouping_and_sorting.py:29: FutureWarning: The provided callable <built-in function max> is currently using SeriesGroupBy.max. In a future version of pandas, the provided callable will be used directly. To keep current behavior pass the string \"max\" instead.\n",
      "  _expected = reviews.groupby('variety').price.agg([min, max])\n",
      "/opt/conda/lib/python3.10/site-packages/learntools/pandas/grouping_and_sorting.py:35: FutureWarning: The provided callable <built-in function min> is currently using SeriesGroupBy.min. In a future version of pandas, the provided callable will be used directly. To keep current behavior pass the string \"min\" instead.\n",
      "  _expected = reviews.groupby('variety').price.agg([min, max]).sort_values(by=['min', 'max'], ascending=False)\n",
      "/opt/conda/lib/python3.10/site-packages/learntools/pandas/grouping_and_sorting.py:35: FutureWarning: The provided callable <built-in function max> is currently using SeriesGroupBy.max. In a future version of pandas, the provided callable will be used directly. To keep current behavior pass the string \"max\" instead.\n",
      "  _expected = reviews.groupby('variety').price.agg([min, max]).sort_values(by=['min', 'max'], ascending=False)\n"
     ]
    }
   ],
   "source": [
    "import pandas as pd\n",
    "\n",
    "reviews = pd.read_csv(\"../input/wine-reviews/winemag-data-130k-v2.csv\", index_col=0)\n",
    "#pd.set_option(\"display.max_rows\", 5)\n",
    "\n",
    "from learntools.core import binder; binder.bind(globals())\n",
    "from learntools.pandas.grouping_and_sorting import *\n",
    "print(\"Setup complete.\")"
   ]
  },
  {
   "cell_type": "markdown",
   "id": "b53a73de",
   "metadata": {
    "papermill": {
     "duration": 0.008599,
     "end_time": "2024-06-27T01:21:51.243237",
     "exception": false,
     "start_time": "2024-06-27T01:21:51.234638",
     "status": "completed"
    },
    "tags": []
   },
   "source": [
    "# Exercises"
   ]
  },
  {
   "cell_type": "markdown",
   "id": "9c83673d",
   "metadata": {
    "papermill": {
     "duration": 0.008464,
     "end_time": "2024-06-27T01:21:51.260410",
     "exception": false,
     "start_time": "2024-06-27T01:21:51.251946",
     "status": "completed"
    },
    "tags": []
   },
   "source": [
    "## 1.\n",
    "Who are the most common wine reviewers in the dataset? Create a `Series` whose index is the `taster_twitter_handle` category from the dataset, and whose values count how many reviews each person wrote."
   ]
  },
  {
   "cell_type": "code",
   "execution_count": 2,
   "id": "42739300",
   "metadata": {
    "execution": {
     "iopub.execute_input": "2024-06-27T01:21:51.280714Z",
     "iopub.status.busy": "2024-06-27T01:21:51.279572Z",
     "iopub.status.idle": "2024-06-27T01:21:51.291213Z",
     "shell.execute_reply": "2024-06-27T01:21:51.289813Z"
    },
    "papermill": {
     "duration": 0.024428,
     "end_time": "2024-06-27T01:21:51.293853",
     "exception": false,
     "start_time": "2024-06-27T01:21:51.269425",
     "status": "completed"
    },
    "tags": []
   },
   "outputs": [
    {
     "data": {
      "application/javascript": [
       "parent.postMessage({\"jupyterEvent\": \"custom.exercise_interaction\", \"data\": {\"outcomeType\": 4, \"interactionType\": 1, \"questionType\": 1, \"questionId\": \"1_ReviewsWritten\", \"learnToolsVersion\": \"0.3.4\", \"valueTowardsCompletion\": 0.0, \"failureMessage\": \"\", \"exceptionClass\": \"\", \"trace\": \"\"}}, \"*\")"
      ],
      "text/plain": [
       "<IPython.core.display.Javascript object>"
      ]
     },
     "metadata": {},
     "output_type": "display_data"
    },
    {
     "data": {
      "text/markdown": [
       "<span style=\"color:#ccaa33\">Check:</span> When you've updated the starter code, `check()` will tell you whether your code is correct. You need to update the code that creates variable `reviews_written`"
      ],
      "text/plain": [
       "Check: When you've updated the starter code, `check()` will tell you whether your code is correct. You need to update the code that creates variable `reviews_written`"
      ]
     },
     "metadata": {},
     "output_type": "display_data"
    }
   ],
   "source": [
    "# Your code here\n",
    "reviews_written = ____\n",
    "\n",
    "# Check your answer\n",
    "q1.check()"
   ]
  },
  {
   "cell_type": "code",
   "execution_count": 3,
   "id": "938662c2",
   "metadata": {
    "execution": {
     "iopub.execute_input": "2024-06-27T01:21:51.313863Z",
     "iopub.status.busy": "2024-06-27T01:21:51.313415Z",
     "iopub.status.idle": "2024-06-27T01:21:51.323537Z",
     "shell.execute_reply": "2024-06-27T01:21:51.322358Z"
    },
    "papermill": {
     "duration": 0.02357,
     "end_time": "2024-06-27T01:21:51.326540",
     "exception": false,
     "start_time": "2024-06-27T01:21:51.302970",
     "status": "completed"
    },
    "tags": []
   },
   "outputs": [
    {
     "data": {
      "application/javascript": [
       "parent.postMessage({\"jupyterEvent\": \"custom.exercise_interaction\", \"data\": {\"interactionType\": 3, \"questionType\": 1, \"questionId\": \"1_ReviewsWritten\", \"learnToolsVersion\": \"0.3.4\", \"valueTowardsCompletion\": 0.0, \"failureMessage\": \"\", \"exceptionClass\": \"\", \"trace\": \"\", \"outcomeType\": 4}}, \"*\")"
      ],
      "text/plain": [
       "<IPython.core.display.Javascript object>"
      ]
     },
     "metadata": {},
     "output_type": "display_data"
    },
    {
     "data": {
      "text/markdown": [
       "<span style=\"color:#33cc99\">Solution:</span> \n",
       "```python\n",
       "reviews_written = reviews.groupby('taster_twitter_handle').size()\n",
       "```\n",
       "or\n",
       "```python\n",
       "reviews_written = reviews.groupby('taster_twitter_handle').taster_twitter_handle.count()\n",
       "```\n"
      ],
      "text/plain": [
       "Solution: \n",
       "```python\n",
       "reviews_written = reviews.groupby('taster_twitter_handle').size()\n",
       "```\n",
       "or\n",
       "```python\n",
       "reviews_written = reviews.groupby('taster_twitter_handle').taster_twitter_handle.count()\n",
       "```"
      ]
     },
     "metadata": {},
     "output_type": "display_data"
    }
   ],
   "source": [
    "#q1.hint()\n",
    "q1.solution()"
   ]
  },
  {
   "cell_type": "markdown",
   "id": "ae5e29d2",
   "metadata": {
    "papermill": {
     "duration": 0.009188,
     "end_time": "2024-06-27T01:21:51.346090",
     "exception": false,
     "start_time": "2024-06-27T01:21:51.336902",
     "status": "completed"
    },
    "tags": []
   },
   "source": [
    "## 2.\n",
    "What is the best wine I can buy for a given amount of money? Create a `Series` whose index is wine prices and whose values is the maximum number of points a wine costing that much was given in a review. Sort the values by price, ascending (so that `4.0` dollars is at the top and `3300.0` dollars is at the bottom)."
   ]
  },
  {
   "cell_type": "code",
   "execution_count": 4,
   "id": "0a0aec58",
   "metadata": {
    "execution": {
     "iopub.execute_input": "2024-06-27T01:21:51.366637Z",
     "iopub.status.busy": "2024-06-27T01:21:51.366228Z",
     "iopub.status.idle": "2024-06-27T01:21:51.376432Z",
     "shell.execute_reply": "2024-06-27T01:21:51.375218Z"
    },
    "papermill": {
     "duration": 0.023624,
     "end_time": "2024-06-27T01:21:51.379185",
     "exception": false,
     "start_time": "2024-06-27T01:21:51.355561",
     "status": "completed"
    },
    "tags": []
   },
   "outputs": [
    {
     "data": {
      "application/javascript": [
       "parent.postMessage({\"jupyterEvent\": \"custom.exercise_interaction\", \"data\": {\"outcomeType\": 4, \"interactionType\": 1, \"questionType\": 1, \"questionId\": \"2_BestRatingPerPrice\", \"learnToolsVersion\": \"0.3.4\", \"valueTowardsCompletion\": 0.0, \"failureMessage\": \"\", \"exceptionClass\": \"\", \"trace\": \"\"}}, \"*\")"
      ],
      "text/plain": [
       "<IPython.core.display.Javascript object>"
      ]
     },
     "metadata": {},
     "output_type": "display_data"
    },
    {
     "data": {
      "text/markdown": [
       "<span style=\"color:#ccaa33\">Check:</span> When you've updated the starter code, `check()` will tell you whether your code is correct. You need to update the code that creates variable `best_rating_per_price`"
      ],
      "text/plain": [
       "Check: When you've updated the starter code, `check()` will tell you whether your code is correct. You need to update the code that creates variable `best_rating_per_price`"
      ]
     },
     "metadata": {},
     "output_type": "display_data"
    }
   ],
   "source": [
    "best_rating_per_price = ____\n",
    "\n",
    "# Check your answer\n",
    "q2.check()"
   ]
  },
  {
   "cell_type": "code",
   "execution_count": 5,
   "id": "e7b0952b",
   "metadata": {
    "execution": {
     "iopub.execute_input": "2024-06-27T01:21:51.400626Z",
     "iopub.status.busy": "2024-06-27T01:21:51.400213Z",
     "iopub.status.idle": "2024-06-27T01:21:51.405546Z",
     "shell.execute_reply": "2024-06-27T01:21:51.404057Z"
    },
    "papermill": {
     "duration": 0.019596,
     "end_time": "2024-06-27T01:21:51.408443",
     "exception": false,
     "start_time": "2024-06-27T01:21:51.388847",
     "status": "completed"
    },
    "tags": []
   },
   "outputs": [],
   "source": [
    "#q2.hint()\n",
    "#q2.solution()"
   ]
  },
  {
   "cell_type": "markdown",
   "id": "fd158d44",
   "metadata": {
    "papermill": {
     "duration": 0.009753,
     "end_time": "2024-06-27T01:21:51.428013",
     "exception": false,
     "start_time": "2024-06-27T01:21:51.418260",
     "status": "completed"
    },
    "tags": []
   },
   "source": [
    "## 3.\n",
    "What are the minimum and maximum prices for each `variety` of wine? Create a `DataFrame` whose index is the `variety` category from the dataset and whose values are the `min` and `max` values thereof."
   ]
  },
  {
   "cell_type": "code",
   "execution_count": 6,
   "id": "c929f1b2",
   "metadata": {
    "execution": {
     "iopub.execute_input": "2024-06-27T01:21:51.449617Z",
     "iopub.status.busy": "2024-06-27T01:21:51.449142Z",
     "iopub.status.idle": "2024-06-27T01:21:51.458921Z",
     "shell.execute_reply": "2024-06-27T01:21:51.457787Z"
    },
    "papermill": {
     "duration": 0.023744,
     "end_time": "2024-06-27T01:21:51.461646",
     "exception": false,
     "start_time": "2024-06-27T01:21:51.437902",
     "status": "completed"
    },
    "tags": []
   },
   "outputs": [
    {
     "data": {
      "application/javascript": [
       "parent.postMessage({\"jupyterEvent\": \"custom.exercise_interaction\", \"data\": {\"outcomeType\": 4, \"interactionType\": 1, \"questionType\": 1, \"questionId\": \"3_PriceExtremes\", \"learnToolsVersion\": \"0.3.4\", \"valueTowardsCompletion\": 0.0, \"failureMessage\": \"\", \"exceptionClass\": \"\", \"trace\": \"\"}}, \"*\")"
      ],
      "text/plain": [
       "<IPython.core.display.Javascript object>"
      ]
     },
     "metadata": {},
     "output_type": "display_data"
    },
    {
     "data": {
      "text/markdown": [
       "<span style=\"color:#ccaa33\">Check:</span> When you've updated the starter code, `check()` will tell you whether your code is correct. You need to update the code that creates variable `price_extremes`"
      ],
      "text/plain": [
       "Check: When you've updated the starter code, `check()` will tell you whether your code is correct. You need to update the code that creates variable `price_extremes`"
      ]
     },
     "metadata": {},
     "output_type": "display_data"
    }
   ],
   "source": [
    "price_extremes = ____\n",
    "\n",
    "# Check your answer\n",
    "q3.check()"
   ]
  },
  {
   "cell_type": "code",
   "execution_count": 7,
   "id": "de6446dd",
   "metadata": {
    "execution": {
     "iopub.execute_input": "2024-06-27T01:21:51.486345Z",
     "iopub.status.busy": "2024-06-27T01:21:51.485408Z",
     "iopub.status.idle": "2024-06-27T01:21:51.491073Z",
     "shell.execute_reply": "2024-06-27T01:21:51.489790Z"
    },
    "papermill": {
     "duration": 0.021904,
     "end_time": "2024-06-27T01:21:51.494006",
     "exception": false,
     "start_time": "2024-06-27T01:21:51.472102",
     "status": "completed"
    },
    "tags": []
   },
   "outputs": [],
   "source": [
    "#q3.hint()\n",
    "#q3.solution()"
   ]
  },
  {
   "cell_type": "markdown",
   "id": "8406c838",
   "metadata": {
    "papermill": {
     "duration": 0.010936,
     "end_time": "2024-06-27T01:21:51.514989",
     "exception": false,
     "start_time": "2024-06-27T01:21:51.504053",
     "status": "completed"
    },
    "tags": []
   },
   "source": [
    "## 4.\n",
    "What are the most expensive wine varieties? Create a variable `sorted_varieties` containing a copy of the dataframe from the previous question where varieties are sorted in descending order based on minimum price, then on maximum price (to break ties)."
   ]
  },
  {
   "cell_type": "code",
   "execution_count": 8,
   "id": "078d7c23",
   "metadata": {
    "execution": {
     "iopub.execute_input": "2024-06-27T01:21:51.537366Z",
     "iopub.status.busy": "2024-06-27T01:21:51.536951Z",
     "iopub.status.idle": "2024-06-27T01:21:51.547335Z",
     "shell.execute_reply": "2024-06-27T01:21:51.546099Z"
    },
    "papermill": {
     "duration": 0.025016,
     "end_time": "2024-06-27T01:21:51.550249",
     "exception": false,
     "start_time": "2024-06-27T01:21:51.525233",
     "status": "completed"
    },
    "tags": []
   },
   "outputs": [
    {
     "data": {
      "application/javascript": [
       "parent.postMessage({\"jupyterEvent\": \"custom.exercise_interaction\", \"data\": {\"outcomeType\": 4, \"interactionType\": 1, \"questionType\": 1, \"questionId\": \"4_SortedVarieties\", \"learnToolsVersion\": \"0.3.4\", \"valueTowardsCompletion\": 0.0, \"failureMessage\": \"\", \"exceptionClass\": \"\", \"trace\": \"\"}}, \"*\")"
      ],
      "text/plain": [
       "<IPython.core.display.Javascript object>"
      ]
     },
     "metadata": {},
     "output_type": "display_data"
    },
    {
     "data": {
      "text/markdown": [
       "<span style=\"color:#ccaa33\">Check:</span> When you've updated the starter code, `check()` will tell you whether your code is correct. You need to update the code that creates variable `sorted_varieties`"
      ],
      "text/plain": [
       "Check: When you've updated the starter code, `check()` will tell you whether your code is correct. You need to update the code that creates variable `sorted_varieties`"
      ]
     },
     "metadata": {},
     "output_type": "display_data"
    }
   ],
   "source": [
    "sorted_varieties = ____\n",
    "\n",
    "# Check your answer\n",
    "q4.check()"
   ]
  },
  {
   "cell_type": "code",
   "execution_count": 9,
   "id": "39999c3d",
   "metadata": {
    "execution": {
     "iopub.execute_input": "2024-06-27T01:21:51.573557Z",
     "iopub.status.busy": "2024-06-27T01:21:51.573121Z",
     "iopub.status.idle": "2024-06-27T01:21:51.578115Z",
     "shell.execute_reply": "2024-06-27T01:21:51.576770Z"
    },
    "papermill": {
     "duration": 0.01998,
     "end_time": "2024-06-27T01:21:51.580954",
     "exception": false,
     "start_time": "2024-06-27T01:21:51.560974",
     "status": "completed"
    },
    "tags": []
   },
   "outputs": [],
   "source": [
    "#q4.hint()\n",
    "#q4.solution()"
   ]
  },
  {
   "cell_type": "markdown",
   "id": "a66ed21c",
   "metadata": {
    "papermill": {
     "duration": 0.009996,
     "end_time": "2024-06-27T01:21:51.601469",
     "exception": false,
     "start_time": "2024-06-27T01:21:51.591473",
     "status": "completed"
    },
    "tags": []
   },
   "source": [
    "## 5.\n",
    "Create a `Series` whose index is reviewers and whose values is the average review score given out by that reviewer. Hint: you will need the `taster_name` and `points` columns."
   ]
  },
  {
   "cell_type": "code",
   "execution_count": 10,
   "id": "9e74283d",
   "metadata": {
    "execution": {
     "iopub.execute_input": "2024-06-27T01:21:51.624259Z",
     "iopub.status.busy": "2024-06-27T01:21:51.623804Z",
     "iopub.status.idle": "2024-06-27T01:21:51.660069Z",
     "shell.execute_reply": "2024-06-27T01:21:51.658751Z"
    },
    "papermill": {
     "duration": 0.050938,
     "end_time": "2024-06-27T01:21:51.662904",
     "exception": false,
     "start_time": "2024-06-27T01:21:51.611966",
     "status": "completed"
    },
    "tags": []
   },
   "outputs": [
    {
     "data": {
      "application/javascript": [
       "parent.postMessage({\"jupyterEvent\": \"custom.exercise_interaction\", \"data\": {\"outcomeType\": 1, \"valueTowardsCompletion\": 0.16666666666666666, \"interactionType\": 1, \"questionType\": 1, \"questionId\": \"5_ReviewerMeanRatings\", \"learnToolsVersion\": \"0.3.4\", \"failureMessage\": \"\", \"exceptionClass\": \"\", \"trace\": \"\"}}, \"*\")"
      ],
      "text/plain": [
       "<IPython.core.display.Javascript object>"
      ]
     },
     "metadata": {},
     "output_type": "display_data"
    },
    {
     "data": {
      "text/markdown": [
       "<span style=\"color:#33cc33\">Correct</span>"
      ],
      "text/plain": [
       "Correct"
      ]
     },
     "metadata": {},
     "output_type": "display_data"
    }
   ],
   "source": [
    "reviewer_mean_ratings = reviews.groupby(['taster_name']).points.mean()\n",
    "\n",
    "# Check your answer\n",
    "q5.check()"
   ]
  },
  {
   "cell_type": "code",
   "execution_count": 11,
   "id": "882199b2",
   "metadata": {
    "execution": {
     "iopub.execute_input": "2024-06-27T01:21:51.686534Z",
     "iopub.status.busy": "2024-06-27T01:21:51.686090Z",
     "iopub.status.idle": "2024-06-27T01:21:51.696164Z",
     "shell.execute_reply": "2024-06-27T01:21:51.694700Z"
    },
    "papermill": {
     "duration": 0.025455,
     "end_time": "2024-06-27T01:21:51.699160",
     "exception": false,
     "start_time": "2024-06-27T01:21:51.673705",
     "status": "completed"
    },
    "tags": []
   },
   "outputs": [
    {
     "data": {
      "application/javascript": [
       "parent.postMessage({\"jupyterEvent\": \"custom.exercise_interaction\", \"data\": {\"interactionType\": 2, \"questionType\": 1, \"questionId\": \"5_ReviewerMeanRatings\", \"learnToolsVersion\": \"0.3.4\", \"valueTowardsCompletion\": 0.0, \"failureMessage\": \"\", \"exceptionClass\": \"\", \"trace\": \"\", \"outcomeType\": 4}}, \"*\")"
      ],
      "text/plain": [
       "<IPython.core.display.Javascript object>"
      ]
     },
     "metadata": {},
     "output_type": "display_data"
    },
    {
     "data": {
      "text/markdown": [
       "<span style=\"color:#3366cc\">Hint:</span> Use `mean()`."
      ],
      "text/plain": [
       "Hint: Use `mean()`."
      ]
     },
     "metadata": {},
     "output_type": "display_data"
    }
   ],
   "source": [
    "q5.hint()\n",
    "#q5.solution()"
   ]
  },
  {
   "cell_type": "markdown",
   "id": "a8ad0076",
   "metadata": {
    "papermill": {
     "duration": 0.011353,
     "end_time": "2024-06-27T01:21:51.721697",
     "exception": false,
     "start_time": "2024-06-27T01:21:51.710344",
     "status": "completed"
    },
    "tags": []
   },
   "source": [
    "Are there significant differences in the average scores assigned by the various reviewers? Run the cell below to use the `describe()` method to see a summary of the range of values."
   ]
  },
  {
   "cell_type": "code",
   "execution_count": 12,
   "id": "9c581c9a",
   "metadata": {
    "execution": {
     "iopub.execute_input": "2024-06-27T01:21:51.747346Z",
     "iopub.status.busy": "2024-06-27T01:21:51.746432Z",
     "iopub.status.idle": "2024-06-27T01:21:51.760572Z",
     "shell.execute_reply": "2024-06-27T01:21:51.759329Z"
    },
    "papermill": {
     "duration": 0.03063,
     "end_time": "2024-06-27T01:21:51.763403",
     "exception": false,
     "start_time": "2024-06-27T01:21:51.732773",
     "status": "completed"
    },
    "tags": []
   },
   "outputs": [
    {
     "data": {
      "text/plain": [
       "count    19.000000\n",
       "mean     88.233026\n",
       "std       1.243610\n",
       "min      85.855422\n",
       "25%      87.323501\n",
       "50%      88.536235\n",
       "75%      88.975256\n",
       "max      90.562551\n",
       "Name: points, dtype: float64"
      ]
     },
     "execution_count": 12,
     "metadata": {},
     "output_type": "execute_result"
    }
   ],
   "source": [
    "reviewer_mean_ratings.describe()"
   ]
  },
  {
   "cell_type": "markdown",
   "id": "f19c871b",
   "metadata": {
    "papermill": {
     "duration": 0.010869,
     "end_time": "2024-06-27T01:21:51.786061",
     "exception": false,
     "start_time": "2024-06-27T01:21:51.775192",
     "status": "completed"
    },
    "tags": []
   },
   "source": [
    "## 6.\n",
    "What combination of countries and varieties are most common? Create a `Series` whose index is a `MultiIndex`of `{country, variety}` pairs. For example, a pinot noir produced in the US should map to `{\"US\", \"Pinot Noir\"}`. Sort the values in the `Series` in descending order based on wine count."
   ]
  },
  {
   "cell_type": "code",
   "execution_count": 13,
   "id": "d26dabde",
   "metadata": {
    "execution": {
     "iopub.execute_input": "2024-06-27T01:21:51.810698Z",
     "iopub.status.busy": "2024-06-27T01:21:51.810271Z",
     "iopub.status.idle": "2024-06-27T01:21:51.876534Z",
     "shell.execute_reply": "2024-06-27T01:21:51.875045Z"
    },
    "papermill": {
     "duration": 0.081701,
     "end_time": "2024-06-27T01:21:51.879354",
     "exception": false,
     "start_time": "2024-06-27T01:21:51.797653",
     "status": "completed"
    },
    "tags": []
   },
   "outputs": [
    {
     "data": {
      "application/javascript": [
       "parent.postMessage({\"jupyterEvent\": \"custom.exercise_interaction\", \"data\": {\"outcomeType\": 1, \"valueTowardsCompletion\": 0.16666666666666666, \"interactionType\": 1, \"questionType\": 1, \"questionId\": \"6_GroupbyCountryVariety\", \"learnToolsVersion\": \"0.3.4\", \"failureMessage\": \"\", \"exceptionClass\": \"\", \"trace\": \"\"}}, \"*\")"
      ],
      "text/plain": [
       "<IPython.core.display.Javascript object>"
      ]
     },
     "metadata": {},
     "output_type": "display_data"
    },
    {
     "data": {
      "text/markdown": [
       "<span style=\"color:#33cc33\">Correct</span>"
      ],
      "text/plain": [
       "Correct"
      ]
     },
     "metadata": {},
     "output_type": "display_data"
    }
   ],
   "source": [
    "country_variety_counts = reviews.groupby(['country', 'variety']).size().sort_values(ascending=False)\n",
    "# Check your answer\n",
    "q6.check()"
   ]
  },
  {
   "cell_type": "code",
   "execution_count": 14,
   "id": "4e9194cd",
   "metadata": {
    "execution": {
     "iopub.execute_input": "2024-06-27T01:21:51.905126Z",
     "iopub.status.busy": "2024-06-27T01:21:51.903943Z",
     "iopub.status.idle": "2024-06-27T01:21:51.917604Z",
     "shell.execute_reply": "2024-06-27T01:21:51.916426Z"
    },
    "papermill": {
     "duration": 0.029069,
     "end_time": "2024-06-27T01:21:51.920063",
     "exception": false,
     "start_time": "2024-06-27T01:21:51.890994",
     "status": "completed"
    },
    "tags": []
   },
   "outputs": [
    {
     "data": {
      "application/javascript": [
       "parent.postMessage({\"jupyterEvent\": \"custom.exercise_interaction\", \"data\": {\"interactionType\": 2, \"questionType\": 1, \"questionId\": \"6_GroupbyCountryVariety\", \"learnToolsVersion\": \"0.3.4\", \"valueTowardsCompletion\": 0.0, \"failureMessage\": \"\", \"exceptionClass\": \"\", \"trace\": \"\", \"outcomeType\": 4}}, \"*\")"
      ],
      "text/plain": [
       "<IPython.core.display.Javascript object>"
      ]
     },
     "metadata": {},
     "output_type": "display_data"
    },
    {
     "data": {
      "text/markdown": [
       "<span style=\"color:#3366cc\">Hint:</span> Use `groupby()`, and provide a list of columns to group by.  You may also find `size()` and `sort_values()` to be useful!"
      ],
      "text/plain": [
       "Hint: Use `groupby()`, and provide a list of columns to group by.  You may also find `size()` and `sort_values()` to be useful!"
      ]
     },
     "metadata": {},
     "output_type": "display_data"
    },
    {
     "data": {
      "application/javascript": [
       "parent.postMessage({\"jupyterEvent\": \"custom.exercise_interaction\", \"data\": {\"interactionType\": 3, \"questionType\": 1, \"questionId\": \"6_GroupbyCountryVariety\", \"learnToolsVersion\": \"0.3.4\", \"valueTowardsCompletion\": 0.0, \"failureMessage\": \"\", \"exceptionClass\": \"\", \"trace\": \"\", \"outcomeType\": 4}}, \"*\")"
      ],
      "text/plain": [
       "<IPython.core.display.Javascript object>"
      ]
     },
     "metadata": {},
     "output_type": "display_data"
    },
    {
     "data": {
      "text/markdown": [
       "<span style=\"color:#33cc99\">Solution:</span> \n",
       "```python\n",
       "country_variety_counts = reviews.groupby(['country', 'variety']).size().sort_values(ascending=False)\n",
       "```"
      ],
      "text/plain": [
       "Solution: \n",
       "```python\n",
       "country_variety_counts = reviews.groupby(['country', 'variety']).size().sort_values(ascending=False)\n",
       "```"
      ]
     },
     "metadata": {},
     "output_type": "display_data"
    }
   ],
   "source": [
    "q6.hint()\n",
    "q6.solution()"
   ]
  },
  {
   "cell_type": "markdown",
   "id": "53a8ea96",
   "metadata": {
    "papermill": {
     "duration": 0.012314,
     "end_time": "2024-06-27T01:21:51.944517",
     "exception": false,
     "start_time": "2024-06-27T01:21:51.932203",
     "status": "completed"
    },
    "tags": []
   },
   "source": [
    "# Keep going\n",
    "\n",
    "Move on to the [**data types and missing data**](https://www.kaggle.com/residentmario/data-types-and-missing-values)."
   ]
  },
  {
   "cell_type": "markdown",
   "id": "b149f609",
   "metadata": {
    "papermill": {
     "duration": 0.01194,
     "end_time": "2024-06-27T01:21:51.968913",
     "exception": false,
     "start_time": "2024-06-27T01:21:51.956973",
     "status": "completed"
    },
    "tags": []
   },
   "source": [
    "---\n",
    "\n",
    "\n",
    "\n",
    "\n",
    "*Have questions or comments? Visit the [course discussion forum](https://www.kaggle.com/learn/pandas/discussion) to chat with other learners.*"
   ]
  }
 ],
 "metadata": {
  "kaggle": {
   "accelerator": "none",
   "dataSources": [
    {
     "datasetId": 655,
     "sourceId": 1252,
     "sourceType": "datasetVersion"
    },
    {
     "datasetId": 2321,
     "sourceId": 3919,
     "sourceType": "datasetVersion"
    },
    {
     "datasetId": 2894,
     "sourceId": 4877,
     "sourceType": "datasetVersion"
    },
    {
     "datasetId": 3491,
     "sourceId": 5624,
     "sourceType": "datasetVersion"
    },
    {
     "datasetId": 1442,
     "sourceId": 8172,
     "sourceType": "datasetVersion"
    },
    {
     "datasetId": 9366,
     "sourceId": 13206,
     "sourceType": "datasetVersion"
    },
    {
     "datasetId": 179555,
     "sourceId": 403916,
     "sourceType": "datasetVersion"
    },
    {
     "datasetId": 4549,
     "sourceId": 466349,
     "sourceType": "datasetVersion"
    },
    {
     "datasetId": 2478,
     "sourceId": 1151655,
     "sourceType": "datasetVersion"
    },
    {
     "datasetId": 10128,
     "sourceId": 5438389,
     "sourceType": "datasetVersion"
    }
   ],
   "isGpuEnabled": false,
   "isInternetEnabled": false,
   "language": "python",
   "sourceType": "notebook"
  },
  "kernelspec": {
   "display_name": "Python 3",
   "language": "python",
   "name": "python3"
  },
  "language_info": {
   "codemirror_mode": {
    "name": "ipython",
    "version": 3
   },
   "file_extension": ".py",
   "mimetype": "text/x-python",
   "name": "python",
   "nbconvert_exporter": "python",
   "pygments_lexer": "ipython3",
   "version": "3.10.13"
  },
  "papermill": {
   "default_parameters": {},
   "duration": 9.430612,
   "end_time": "2024-06-27T01:21:52.604209",
   "environment_variables": {},
   "exception": null,
   "input_path": "__notebook__.ipynb",
   "output_path": "__notebook__.ipynb",
   "parameters": {},
   "start_time": "2024-06-27T01:21:43.173597",
   "version": "2.5.0"
  }
 },
 "nbformat": 4,
 "nbformat_minor": 5
}
