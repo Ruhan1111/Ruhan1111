{
 "cells": [
  {
   "cell_type": "markdown",
   "id": "2dca93d4",
   "metadata": {
    "papermill": {
     "duration": 0.005819,
     "end_time": "2024-06-27T01:17:50.488424",
     "exception": false,
     "start_time": "2024-06-27T01:17:50.482605",
     "status": "completed"
    },
    "tags": []
   },
   "source": [
    "**This notebook is an exercise in the [Data Visualization](https://www.kaggle.com/learn/data-visualization) course.  You can reference the tutorial at [this link](https://www.kaggle.com/alexisbcook/line-charts).**\n",
    "\n",
    "---\n"
   ]
  },
  {
   "cell_type": "markdown",
   "id": "9efc4d0a",
   "metadata": {
    "papermill": {
     "duration": 0.004881,
     "end_time": "2024-06-27T01:17:50.498642",
     "exception": false,
     "start_time": "2024-06-27T01:17:50.493761",
     "status": "completed"
    },
    "tags": []
   },
   "source": [
    "In this exercise, you will use your new knowledge to propose a solution to a real-world scenario. To succeed, you will need to import data into Python, answer questions using the data, and generate **line charts** to understand patterns in the data.\n",
    "\n",
    "## Scenario\n",
    "\n",
    "You have recently been hired to manage the museums in the City of Los Angeles. Your first project focuses on the four museums pictured in the images below.\n",
    "\n",
    "![ex1_museums](https://storage.googleapis.com/kaggle-media/learn/images/pFYL8J1.png)\n",
    "\n",
    "You will leverage data from the Los Angeles [Data Portal](https://data.lacity.org/) that tracks monthly visitors to each museum.  \n",
    "\n",
    "![ex1_xlsx](https://storage.googleapis.com/kaggle-media/learn/images/mGWYlym.png)\n",
    "\n",
    "## Setup\n",
    "\n",
    "Run the next cell to import and configure the Python libraries that you need to complete the exercise."
   ]
  },
  {
   "cell_type": "code",
   "execution_count": 1,
   "id": "de70070d",
   "metadata": {
    "execution": {
     "iopub.execute_input": "2024-06-27T01:17:50.511179Z",
     "iopub.status.busy": "2024-06-27T01:17:50.510754Z",
     "iopub.status.idle": "2024-06-27T01:17:52.703121Z",
     "shell.execute_reply": "2024-06-27T01:17:52.701982Z"
    },
    "papermill": {
     "duration": 2.201407,
     "end_time": "2024-06-27T01:17:52.705645",
     "exception": false,
     "start_time": "2024-06-27T01:17:50.504238",
     "status": "completed"
    },
    "tags": []
   },
   "outputs": [
    {
     "name": "stdout",
     "output_type": "stream",
     "text": [
      "Setup Complete\n"
     ]
    }
   ],
   "source": [
    "import pandas as pd\n",
    "pd.plotting.register_matplotlib_converters()\n",
    "import matplotlib.pyplot as plt\n",
    "%matplotlib inline\n",
    "import seaborn as sns\n",
    "print(\"Setup Complete\")"
   ]
  },
  {
   "cell_type": "markdown",
   "id": "3e0a2263",
   "metadata": {
    "papermill": {
     "duration": 0.005184,
     "end_time": "2024-06-27T01:17:52.716242",
     "exception": false,
     "start_time": "2024-06-27T01:17:52.711058",
     "status": "completed"
    },
    "tags": []
   },
   "source": [
    "The questions below will give you feedback on your work. Run the following cell to set up the feedback system."
   ]
  },
  {
   "cell_type": "code",
   "execution_count": 2,
   "id": "22899077",
   "metadata": {
    "execution": {
     "iopub.execute_input": "2024-06-27T01:17:52.728742Z",
     "iopub.status.busy": "2024-06-27T01:17:52.727849Z",
     "iopub.status.idle": "2024-06-27T01:17:52.799956Z",
     "shell.execute_reply": "2024-06-27T01:17:52.798847Z"
    },
    "papermill": {
     "duration": 0.08105,
     "end_time": "2024-06-27T01:17:52.802492",
     "exception": false,
     "start_time": "2024-06-27T01:17:52.721442",
     "status": "completed"
    },
    "tags": []
   },
   "outputs": [
    {
     "name": "stdout",
     "output_type": "stream",
     "text": [
      "Setup Complete\n"
     ]
    }
   ],
   "source": [
    "# Set up code checking\n",
    "import os\n",
    "if not os.path.exists(\"../input/museum_visitors.csv\"):\n",
    "    os.symlink(\"../input/data-for-datavis/museum_visitors.csv\", \"../input/museum_visitors.csv\") \n",
    "from learntools.core import binder\n",
    "binder.bind(globals())\n",
    "from learntools.data_viz_to_coder.ex2 import *\n",
    "print(\"Setup Complete\")"
   ]
  },
  {
   "cell_type": "markdown",
   "id": "f5ffe41a",
   "metadata": {
    "papermill": {
     "duration": 0.005612,
     "end_time": "2024-06-27T01:17:52.813966",
     "exception": false,
     "start_time": "2024-06-27T01:17:52.808354",
     "status": "completed"
    },
    "tags": []
   },
   "source": [
    "## Step 1: Load the data\n",
    "\n",
    "Your first assignment is to read the LA Museum Visitors data file into `museum_data`.  Note that:\n",
    "- The filepath to the dataset is stored as `museum_filepath`.  Please **do not** change the provided value of the filepath.\n",
    "- The name of the column to use as row labels is `\"Date\"`.  (This can be seen in cell A1 when the file is opened in Excel.)\n",
    "\n",
    "To help with this, you may find it useful to revisit some relevant code from the tutorial, which we have pasted below:\n",
    "\n",
    "```python\n",
    "# Path of the file to read\n",
    "spotify_filepath = \"../input/spotify.csv\"\n",
    "\n",
    "# Read the file into a variable spotify_data\n",
    "spotify_data = pd.read_csv(spotify_filepath, index_col=\"Date\", parse_dates=True)\n",
    "```\n",
    "\n",
    "The code you need to write now looks very similar!"
   ]
  },
  {
   "cell_type": "code",
   "execution_count": 3,
   "id": "f7761892",
   "metadata": {
    "execution": {
     "iopub.execute_input": "2024-06-27T01:17:52.826512Z",
     "iopub.status.busy": "2024-06-27T01:17:52.826128Z",
     "iopub.status.idle": "2024-06-27T01:17:52.840089Z",
     "shell.execute_reply": "2024-06-27T01:17:52.838844Z"
    },
    "papermill": {
     "duration": 0.022986,
     "end_time": "2024-06-27T01:17:52.842384",
     "exception": false,
     "start_time": "2024-06-27T01:17:52.819398",
     "status": "completed"
    },
    "tags": []
   },
   "outputs": [
    {
     "data": {
      "application/javascript": [
       "parent.postMessage({\"jupyterEvent\": \"custom.exercise_interaction\", \"data\": {\"outcomeType\": 1, \"valueTowardsCompletion\": 0.3333333333333333, \"interactionType\": 1, \"questionType\": 1, \"questionId\": \"1_LoadMuseumData\", \"learnToolsVersion\": \"0.3.4\", \"failureMessage\": \"\", \"exceptionClass\": \"\", \"trace\": \"\"}}, \"*\")"
      ],
      "text/plain": [
       "<IPython.core.display.Javascript object>"
      ]
     },
     "metadata": {},
     "output_type": "display_data"
    },
    {
     "data": {
      "text/markdown": [
       "<span style=\"color:#33cc33\">Correct</span>"
      ],
      "text/plain": [
       "Correct"
      ]
     },
     "metadata": {},
     "output_type": "display_data"
    }
   ],
   "source": [
    "# Path of the file to read\n",
    "museum_filepath = \"../input/museum_visitors.csv\"\n",
    "\n",
    "# Fill in the line below to read the file into a variable museum_data\n",
    "museum_data = pd.read_csv(museum_filepath, index_col=\"Date\", parse_dates=True)\n",
    "\n",
    "# Run the line below with no changes to check that you've loaded the data correctly\n",
    "step_1.check()"
   ]
  },
  {
   "cell_type": "code",
   "execution_count": 4,
   "id": "7d65058b",
   "metadata": {
    "execution": {
     "iopub.execute_input": "2024-06-27T01:17:52.855844Z",
     "iopub.status.busy": "2024-06-27T01:17:52.854824Z",
     "iopub.status.idle": "2024-06-27T01:17:52.859785Z",
     "shell.execute_reply": "2024-06-27T01:17:52.858748Z"
    },
    "papermill": {
     "duration": 0.0141,
     "end_time": "2024-06-27T01:17:52.862156",
     "exception": false,
     "start_time": "2024-06-27T01:17:52.848056",
     "status": "completed"
    },
    "tags": []
   },
   "outputs": [],
   "source": [
    "# Uncomment the line below to receive a hint\n",
    "#step_1.hint()\n",
    "# Uncomment the line below to see the solution\n",
    "#step_1.solution()"
   ]
  },
  {
   "cell_type": "markdown",
   "id": "98b65570",
   "metadata": {
    "papermill": {
     "duration": 0.005437,
     "end_time": "2024-06-27T01:17:52.873495",
     "exception": false,
     "start_time": "2024-06-27T01:17:52.868058",
     "status": "completed"
    },
    "tags": []
   },
   "source": [
    "## Step 2: Review the data\n",
    "\n",
    "Use a Python command to print the last 5 rows of the data."
   ]
  },
  {
   "cell_type": "code",
   "execution_count": 5,
   "id": "27f142ce",
   "metadata": {
    "execution": {
     "iopub.execute_input": "2024-06-27T01:17:52.887084Z",
     "iopub.status.busy": "2024-06-27T01:17:52.886161Z",
     "iopub.status.idle": "2024-06-27T01:17:52.903114Z",
     "shell.execute_reply": "2024-06-27T01:17:52.901756Z"
    },
    "papermill": {
     "duration": 0.026538,
     "end_time": "2024-06-27T01:17:52.905729",
     "exception": false,
     "start_time": "2024-06-27T01:17:52.879191",
     "status": "completed"
    },
    "tags": []
   },
   "outputs": [
    {
     "data": {
      "text/html": [
       "<div>\n",
       "<style scoped>\n",
       "    .dataframe tbody tr th:only-of-type {\n",
       "        vertical-align: middle;\n",
       "    }\n",
       "\n",
       "    .dataframe tbody tr th {\n",
       "        vertical-align: top;\n",
       "    }\n",
       "\n",
       "    .dataframe thead th {\n",
       "        text-align: right;\n",
       "    }\n",
       "</style>\n",
       "<table border=\"1\" class=\"dataframe\">\n",
       "  <thead>\n",
       "    <tr style=\"text-align: right;\">\n",
       "      <th></th>\n",
       "      <th>Avila Adobe</th>\n",
       "      <th>Firehouse Museum</th>\n",
       "      <th>Chinese American Museum</th>\n",
       "      <th>America Tropical Interpretive Center</th>\n",
       "    </tr>\n",
       "    <tr>\n",
       "      <th>Date</th>\n",
       "      <th></th>\n",
       "      <th></th>\n",
       "      <th></th>\n",
       "      <th></th>\n",
       "    </tr>\n",
       "  </thead>\n",
       "  <tbody>\n",
       "    <tr>\n",
       "      <th>2018-07-01</th>\n",
       "      <td>23136</td>\n",
       "      <td>4191</td>\n",
       "      <td>2620</td>\n",
       "      <td>4718</td>\n",
       "    </tr>\n",
       "    <tr>\n",
       "      <th>2018-08-01</th>\n",
       "      <td>20815</td>\n",
       "      <td>4866</td>\n",
       "      <td>2409</td>\n",
       "      <td>3891</td>\n",
       "    </tr>\n",
       "    <tr>\n",
       "      <th>2018-09-01</th>\n",
       "      <td>21020</td>\n",
       "      <td>4956</td>\n",
       "      <td>2146</td>\n",
       "      <td>3180</td>\n",
       "    </tr>\n",
       "    <tr>\n",
       "      <th>2018-10-01</th>\n",
       "      <td>19280</td>\n",
       "      <td>4622</td>\n",
       "      <td>2364</td>\n",
       "      <td>3775</td>\n",
       "    </tr>\n",
       "    <tr>\n",
       "      <th>2018-11-01</th>\n",
       "      <td>17163</td>\n",
       "      <td>4082</td>\n",
       "      <td>2385</td>\n",
       "      <td>4562</td>\n",
       "    </tr>\n",
       "  </tbody>\n",
       "</table>\n",
       "</div>"
      ],
      "text/plain": [
       "            Avila Adobe  Firehouse Museum  Chinese American Museum  \\\n",
       "Date                                                                 \n",
       "2018-07-01        23136              4191                     2620   \n",
       "2018-08-01        20815              4866                     2409   \n",
       "2018-09-01        21020              4956                     2146   \n",
       "2018-10-01        19280              4622                     2364   \n",
       "2018-11-01        17163              4082                     2385   \n",
       "\n",
       "            America Tropical Interpretive Center  \n",
       "Date                                              \n",
       "2018-07-01                                  4718  \n",
       "2018-08-01                                  3891  \n",
       "2018-09-01                                  3180  \n",
       "2018-10-01                                  3775  \n",
       "2018-11-01                                  4562  "
      ]
     },
     "execution_count": 5,
     "metadata": {},
     "output_type": "execute_result"
    }
   ],
   "source": [
    "# Print the last five rows of the data \n",
    "museum_data.tail() # Your code here"
   ]
  },
  {
   "cell_type": "markdown",
   "id": "1cbdd7e9",
   "metadata": {
    "papermill": {
     "duration": 0.005586,
     "end_time": "2024-06-27T01:17:52.917293",
     "exception": false,
     "start_time": "2024-06-27T01:17:52.911707",
     "status": "completed"
    },
    "tags": []
   },
   "source": [
    "The last row (for `2018-11-01`) tracks the number of visitors to each museum in November 2018, the next-to-last row (for `2018-10-01`) tracks the number of visitors to each museum in October 2018, _and so on_.\n",
    "\n",
    "Use the last 5 rows of the data to answer the questions below."
   ]
  },
  {
   "cell_type": "code",
   "execution_count": 6,
   "id": "795eabcd",
   "metadata": {
    "execution": {
     "iopub.execute_input": "2024-06-27T01:17:52.930831Z",
     "iopub.status.busy": "2024-06-27T01:17:52.930465Z",
     "iopub.status.idle": "2024-06-27T01:17:52.939221Z",
     "shell.execute_reply": "2024-06-27T01:17:52.938197Z"
    },
    "papermill": {
     "duration": 0.018295,
     "end_time": "2024-06-27T01:17:52.941474",
     "exception": false,
     "start_time": "2024-06-27T01:17:52.923179",
     "status": "completed"
    },
    "tags": []
   },
   "outputs": [
    {
     "data": {
      "application/javascript": [
       "parent.postMessage({\"jupyterEvent\": \"custom.exercise_interaction\", \"data\": {\"outcomeType\": 1, \"valueTowardsCompletion\": 0.3333333333333333, \"interactionType\": 1, \"questionType\": 1, \"questionId\": \"2_ReviewData\", \"learnToolsVersion\": \"0.3.4\", \"failureMessage\": \"\", \"exceptionClass\": \"\", \"trace\": \"\"}}, \"*\")"
      ],
      "text/plain": [
       "<IPython.core.display.Javascript object>"
      ]
     },
     "metadata": {},
     "output_type": "display_data"
    },
    {
     "data": {
      "text/markdown": [
       "<span style=\"color:#33cc33\">Correct</span>"
      ],
      "text/plain": [
       "Correct"
      ]
     },
     "metadata": {},
     "output_type": "display_data"
    }
   ],
   "source": [
    "# Fill in the line below: How many visitors did the Chinese American Museum \n",
    "# receive in July 2018?\n",
    "ca_museum_jul18 = 2620 \n",
    "\n",
    "# Fill in the line below: In October 2018, how many more visitors did Avila \n",
    "# Adobe receive than the Firehouse Museum?\n",
    "avila_oct18 = 14658\n",
    "\n",
    "# Check your answers\n",
    "step_2.check()"
   ]
  },
  {
   "cell_type": "code",
   "execution_count": 7,
   "id": "e1ccf673",
   "metadata": {
    "execution": {
     "iopub.execute_input": "2024-06-27T01:17:52.956249Z",
     "iopub.status.busy": "2024-06-27T01:17:52.955835Z",
     "iopub.status.idle": "2024-06-27T01:17:52.960414Z",
     "shell.execute_reply": "2024-06-27T01:17:52.959274Z"
    },
    "papermill": {
     "duration": 0.014261,
     "end_time": "2024-06-27T01:17:52.962552",
     "exception": false,
     "start_time": "2024-06-27T01:17:52.948291",
     "status": "completed"
    },
    "tags": []
   },
   "outputs": [],
   "source": [
    "# Lines below will give you a hint or solution code\n",
    "#step_2.hint()\n",
    "#step_2.solution()"
   ]
  },
  {
   "cell_type": "markdown",
   "id": "51f9e85a",
   "metadata": {
    "papermill": {
     "duration": 0.005835,
     "end_time": "2024-06-27T01:17:52.974480",
     "exception": false,
     "start_time": "2024-06-27T01:17:52.968645",
     "status": "completed"
    },
    "tags": []
   },
   "source": [
    "## Step 3: Convince the museum board \n",
    "\n",
    "The Firehouse Museum claims they ran an event in 2014 that brought an incredible number of visitors, and that they should get extra budget to run a similar event again.  The other museums think these types of events aren't that important, and budgets should be split purely based on recent visitors on an average day.  \n",
    "\n",
    "To show the museum board how the event compared to regular traffic at each museum, create a line chart that shows how the number of visitors to each museum evolved over time.  Your figure should have four lines (one for each museum).\n",
    "\n",
    "> **(Optional) Note**: If you have some prior experience with plotting figures in Python, you might be familiar with the `plt.show()` command.  If you decide to use this command, please place it **after** the line of code that checks your answer (in this case, place it after `step_3.check()` below) -- otherwise, the checking code will return an error!"
   ]
  },
  {
   "cell_type": "code",
   "execution_count": 8,
   "id": "4570c699",
   "metadata": {
    "execution": {
     "iopub.execute_input": "2024-06-27T01:17:52.987995Z",
     "iopub.status.busy": "2024-06-27T01:17:52.987584Z",
     "iopub.status.idle": "2024-06-27T01:17:53.005447Z",
     "shell.execute_reply": "2024-06-27T01:17:53.004464Z"
    },
    "papermill": {
     "duration": 0.027227,
     "end_time": "2024-06-27T01:17:53.007637",
     "exception": false,
     "start_time": "2024-06-27T01:17:52.980410",
     "status": "completed"
    },
    "tags": []
   },
   "outputs": [
    {
     "data": {
      "application/javascript": [
       "parent.postMessage({\"jupyterEvent\": \"custom.exercise_interaction\", \"data\": {\"outcomeType\": 2, \"failureMessage\": \"After you've written code to create a line chart, `check()` will tell you whether your code is correct.\", \"interactionType\": 1, \"questionType\": 2, \"questionId\": \"3_PlotAll\", \"learnToolsVersion\": \"0.3.4\", \"valueTowardsCompletion\": 0.0, \"exceptionClass\": \"\", \"trace\": \"\"}}, \"*\")"
      ],
      "text/plain": [
       "<IPython.core.display.Javascript object>"
      ]
     },
     "metadata": {},
     "output_type": "display_data"
    },
    {
     "data": {
      "text/markdown": [
       "<span style=\"color:#cc3333\">Incorrect:</span> After you've written code to create a line chart, `check()` will tell you whether your code is correct."
      ],
      "text/plain": [
       "Incorrect: After you've written code to create a line chart, `check()` will tell you whether your code is correct."
      ]
     },
     "metadata": {},
     "output_type": "display_data"
    },
    {
     "data": {
      "text/plain": [
       "<Figure size 640x480 with 0 Axes>"
      ]
     },
     "metadata": {},
     "output_type": "display_data"
    }
   ],
   "source": [
    "# Line chart showing the number of visitors to each museum over time\n",
    "____ # Your code here\n",
    "\n",
    "# Check your answer\n",
    "step_3.check()"
   ]
  },
  {
   "cell_type": "code",
   "execution_count": 9,
   "id": "cba1f1fb",
   "metadata": {
    "execution": {
     "iopub.execute_input": "2024-06-27T01:17:53.023008Z",
     "iopub.status.busy": "2024-06-27T01:17:53.022187Z",
     "iopub.status.idle": "2024-06-27T01:17:53.026796Z",
     "shell.execute_reply": "2024-06-27T01:17:53.025700Z"
    },
    "papermill": {
     "duration": 0.014962,
     "end_time": "2024-06-27T01:17:53.029041",
     "exception": false,
     "start_time": "2024-06-27T01:17:53.014079",
     "status": "completed"
    },
    "tags": []
   },
   "outputs": [],
   "source": [
    "# Lines below will give you a hint or solution code\n",
    "#step_3.hint()\n",
    "#step_3.solution_plot()"
   ]
  },
  {
   "cell_type": "markdown",
   "id": "203a3a0b",
   "metadata": {
    "papermill": {
     "duration": 0.006331,
     "end_time": "2024-06-27T01:17:53.042208",
     "exception": false,
     "start_time": "2024-06-27T01:17:53.035877",
     "status": "completed"
    },
    "tags": []
   },
   "source": [
    "## Step 4: Assess seasonality\n",
    "\n",
    "When meeting with the employees at Avila Adobe, you hear that one major pain point is that the number of museum visitors varies greatly with the seasons, with low seasons (when the employees are perfectly staffed and happy) and also high seasons (when the employees are understaffed and stressed).  You realize that if you can predict these high and low seasons, you can plan ahead to hire some additional seasonal employees to help out with the extra work.\n",
    "\n",
    "#### Part A\n",
    "Create a line chart that shows how the number of visitors to Avila Adobe has evolved over time.  (_If your code returns an error, the first thing that you should check is that you've spelled the name of the column correctly!  You must write the name of the column exactly as it appears in the dataset._)"
   ]
  },
  {
   "cell_type": "code",
   "execution_count": 10,
   "id": "04799124",
   "metadata": {
    "execution": {
     "iopub.execute_input": "2024-06-27T01:17:53.057030Z",
     "iopub.status.busy": "2024-06-27T01:17:53.056647Z",
     "iopub.status.idle": "2024-06-27T01:17:53.539866Z",
     "shell.execute_reply": "2024-06-27T01:17:53.538560Z"
    },
    "papermill": {
     "duration": 0.493669,
     "end_time": "2024-06-27T01:17:53.542330",
     "exception": false,
     "start_time": "2024-06-27T01:17:53.048661",
     "status": "completed"
    },
    "tags": []
   },
   "outputs": [
    {
     "name": "stdout",
     "output_type": "stream",
     "text": [
      "Thank you for creating a line chart!  To see how your code compares to the official solution, please use the code cell below.\n"
     ]
    },
    {
     "name": "stderr",
     "output_type": "stream",
     "text": [
      "/opt/conda/lib/python3.10/site-packages/seaborn/_oldcore.py:1119: FutureWarning: use_inf_as_na option is deprecated and will be removed in a future version. Convert inf values to NaN before operating instead.\n",
      "  with pd.option_context('mode.use_inf_as_na', True):\n",
      "/opt/conda/lib/python3.10/site-packages/seaborn/_oldcore.py:1119: FutureWarning: use_inf_as_na option is deprecated and will be removed in a future version. Convert inf values to NaN before operating instead.\n",
      "  with pd.option_context('mode.use_inf_as_na', True):\n"
     ]
    },
    {
     "data": {
      "application/javascript": [
       "parent.postMessage({\"jupyterEvent\": \"custom.exercise_interaction\", \"data\": {\"outcomeType\": 1, \"valueTowardsCompletion\": 0.3333333333333333, \"interactionType\": 1, \"questionType\": 2, \"questionId\": \"4.1_PlotAvila\", \"learnToolsVersion\": \"0.3.4\", \"failureMessage\": \"\", \"exceptionClass\": \"\", \"trace\": \"\"}}, \"*\")"
      ],
      "text/plain": [
       "<IPython.core.display.Javascript object>"
      ]
     },
     "metadata": {},
     "output_type": "display_data"
    },
    {
     "data": {
      "text/markdown": [
       "<span style=\"color:#33cc33\">Correct</span>"
      ],
      "text/plain": [
       "Correct"
      ]
     },
     "metadata": {},
     "output_type": "display_data"
    },
    {
     "data": {
      "image/png": "[encoded data removed]",
      "text/plain": [
       "<Figure size 1200x600 with 1 Axes>"
      ]
     },
     "metadata": {},
     "output_type": "display_data"
    }
   ],
   "source": [
    "# Line plot showing the number of visitors to Avila Adobe over time\n",
    "____ # Your code here\n",
    "\n",
    "plt.figure(figsize=(12,6))\n",
    "\n",
    "plt.title(\"Monthly Visitors to Avila Adobe\")\n",
    "\n",
    "sns.lineplot(data=museum_data['Avila Adobe'])\n",
    "\n",
    "plt.xlabel(\"Date\")\n",
    "\n",
    "# Check your answer\n",
    "step_4.a.check()"
   ]
  },
  {
   "cell_type": "code",
   "execution_count": 11,
   "id": "286081a3",
   "metadata": {
    "execution": {
     "iopub.execute_input": "2024-06-27T01:17:53.559699Z",
     "iopub.status.busy": "2024-06-27T01:17:53.559342Z",
     "iopub.status.idle": "2024-06-27T01:17:53.564172Z",
     "shell.execute_reply": "2024-06-27T01:17:53.563076Z"
    },
    "papermill": {
     "duration": 0.016141,
     "end_time": "2024-06-27T01:17:53.566405",
     "exception": false,
     "start_time": "2024-06-27T01:17:53.550264",
     "status": "completed"
    },
    "tags": []
   },
   "outputs": [],
   "source": [
    "# Lines below will give you a hint or solution code\n",
    "#step_4.a.hint()\n",
    "#step_4.a.solution_plot()"
   ]
  },
  {
   "cell_type": "markdown",
   "id": "e70f111a",
   "metadata": {
    "papermill": {
     "duration": 0.0078,
     "end_time": "2024-06-27T01:17:53.582063",
     "exception": false,
     "start_time": "2024-06-27T01:17:53.574263",
     "status": "completed"
    },
    "tags": []
   },
   "source": [
    "#### Part B\n",
    "\n",
    "Does Avila Adobe get more visitors:\n",
    "- in September-February (in LA, the fall and winter months), or \n",
    "- in March-August (in LA, the spring and summer)?  \n",
    "\n",
    "Using this information, when should the museum staff additional seasonal employees?"
   ]
  },
  {
   "cell_type": "code",
   "execution_count": 12,
   "id": "8ce992e2",
   "metadata": {
    "execution": {
     "iopub.execute_input": "2024-06-27T01:17:53.599430Z",
     "iopub.status.busy": "2024-06-27T01:17:53.599073Z",
     "iopub.status.idle": "2024-06-27T01:17:53.603628Z",
     "shell.execute_reply": "2024-06-27T01:17:53.602514Z"
    },
    "papermill": {
     "duration": 0.015944,
     "end_time": "2024-06-27T01:17:53.605834",
     "exception": false,
     "start_time": "2024-06-27T01:17:53.589890",
     "status": "completed"
    },
    "tags": []
   },
   "outputs": [],
   "source": [
    "#step_4.b.hint()"
   ]
  },
  {
   "cell_type": "code",
   "execution_count": 13,
   "id": "e132330e",
   "metadata": {
    "execution": {
     "iopub.execute_input": "2024-06-27T01:17:53.623436Z",
     "iopub.status.busy": "2024-06-27T01:17:53.623051Z",
     "iopub.status.idle": "2024-06-27T01:17:53.632215Z",
     "shell.execute_reply": "2024-06-27T01:17:53.630986Z"
    },
    "papermill": {
     "duration": 0.020482,
     "end_time": "2024-06-27T01:17:53.634297",
     "exception": false,
     "start_time": "2024-06-27T01:17:53.613815",
     "status": "completed"
    },
    "tags": []
   },
   "outputs": [
    {
     "data": {
      "application/javascript": [
       "parent.postMessage({\"jupyterEvent\": \"custom.exercise_interaction\", \"data\": {\"interactionType\": 3, \"questionType\": 4, \"questionId\": \"4.2_ThinkAvila\", \"learnToolsVersion\": \"0.3.4\", \"valueTowardsCompletion\": 0.0, \"failureMessage\": \"\", \"exceptionClass\": \"\", \"trace\": \"\", \"outcomeType\": 4}}, \"*\")"
      ],
      "text/plain": [
       "<IPython.core.display.Javascript object>"
      ]
     },
     "metadata": {},
     "output_type": "display_data"
    },
    {
     "data": {
      "text/markdown": [
       "<span style=\"color:#33cc99\">Solution:</span> The line chart generally dips to relatively low values around the early part of each year (in December and January), and reaches its highest values in the middle of the year (especially around May and June).  Thus, Avila Adobe usually gets more visitors in March-August (or the spring and summer months).  With this in mind, Avila Adobe could definitely benefit from hiring more seasonal employees to help with the extra work in March-August (the spring and summer)!"
      ],
      "text/plain": [
       "Solution: The line chart generally dips to relatively low values around the early part of each year (in December and January), and reaches its highest values in the middle of the year (especially around May and June).  Thus, Avila Adobe usually gets more visitors in March-August (or the spring and summer months).  With this in mind, Avila Adobe could definitely benefit from hiring more seasonal employees to help with the extra work in March-August (the spring and summer)!"
      ]
     },
     "metadata": {},
     "output_type": "display_data"
    }
   ],
   "source": [
    "# Check your answer (Run this code cell to receive credit!)\n",
    "step_4.b.solution()"
   ]
  },
  {
   "cell_type": "markdown",
   "id": "fabf81b9",
   "metadata": {
    "papermill": {
     "duration": 0.007997,
     "end_time": "2024-06-27T01:17:53.650386",
     "exception": false,
     "start_time": "2024-06-27T01:17:53.642389",
     "status": "completed"
    },
    "tags": []
   },
   "source": [
    "# Keep going\n",
    "\n",
    "Move on to learn about **[bar charts and heatmaps](https://www.kaggle.com/alexisbcook/bar-charts-and-heatmaps)** with a new dataset!"
   ]
  },
  {
   "cell_type": "markdown",
   "id": "cc034af3",
   "metadata": {
    "papermill": {
     "duration": 0.007885,
     "end_time": "2024-06-27T01:17:53.666420",
     "exception": false,
     "start_time": "2024-06-27T01:17:53.658535",
     "status": "completed"
    },
    "tags": []
   },
   "source": [
    "---\n",
    "\n",
    "\n",
    "\n",
    "\n",
    "*Have questions or comments? Visit the [course discussion forum](https://www.kaggle.com/learn/data-visualization/discussion) to chat with other learners.*"
   ]
  }
 ],
 "metadata": {
  "kaggle": {
   "accelerator": "none",
   "dataSources": [
    {
     "datasetId": 116573,
     "sourceId": 3551030,
     "sourceType": "datasetVersion"
    }
   ],
   "isGpuEnabled": false,
   "isInternetEnabled": false,
   "language": "python",
   "sourceType": "notebook"
  },
  "kernelspec": {
   "display_name": "Python 3",
   "language": "python",
   "name": "python3"
  },
  "language_info": {
   "codemirror_mode": {
    "name": "ipython",
    "version": 3
   },
   "file_extension": ".py",
   "mimetype": "text/x-python",
   "name": "python",
   "nbconvert_exporter": "python",
   "pygments_lexer": "ipython3",
   "version": "3.10.13"
  },
  "papermill": {
   "default_parameters": {},
   "duration": 6.515108,
   "end_time": "2024-06-27T01:17:54.295504",
   "environment_variables": {},
   "exception": null,
   "input_path": "__notebook__.ipynb",
   "output_path": "__notebook__.ipynb",
   "parameters": {},
   "start_time": "2024-06-27T01:17:47.780396",
   "version": "2.5.0"
  }
 },
 "nbformat": 4,
 "nbformat_minor": 5
}
